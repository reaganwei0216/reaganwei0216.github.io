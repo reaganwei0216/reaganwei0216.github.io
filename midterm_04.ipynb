{
 "cells": [
  {
   "cell_type": "code",
   "execution_count": 4,
   "metadata": {
    "collapsed": false
   },
   "outputs": [
    {
     "name": "stdout",
     "output_type": "stream",
     "text": [
      "1.11.3\n",
      "0.19.2\n",
      "2.0.0\n",
      "0.18.1\n"
     ]
    }
   ],
   "source": [
    "import numpy as np\n",
    "import pandas as pd\n",
    "import matplotlib as plt\n",
    "import sklearn as sk\n",
    "\n",
    "print(np.__version__)\n",
    "print(pd.__version__)\n",
    "print(plt.__version__)\n",
    "print(sk.__version__)"
   ]
  },
  {
   "cell_type": "code",
   "execution_count": 10,
   "metadata": {
    "collapsed": false
   },
   "outputs": [
    {
     "name": "stdout",
     "output_type": "stream",
     "text": [
      "1.11.3\n",
      "0.19.2\n",
      "2.0.0\n",
      "0.18.1\n"
     ]
    }
   ],
   "source": [
    "import numpy \n",
    "import pandas \n",
    "import matplotlib \n",
    "import sklearn \n",
    "\n",
    "print(numpy.__version__)\n",
    "print(pandas.__version__)\n",
    "print(matplotlib.__version__)\n",
    "print(sklearn.__version__)"
   ]
  },
  {
   "cell_type": "code",
   "execution_count": 12,
   "metadata": {
    "collapsed": false
   },
   "outputs": [
    {
     "data": {
      "text/plain": [
       "33"
      ]
     },
     "execution_count": 12,
     "metadata": {},
     "output_type": "execute_result"
    }
   ],
   "source": [
    "days = 30\n",
    "days = days + 3\n",
    "days"
   ]
  },
  {
   "cell_type": "code",
   "execution_count": 13,
   "metadata": {
    "collapsed": false
   },
   "outputs": [
    {
     "data": {
      "text/plain": [
       "33"
      ]
     },
     "execution_count": 13,
     "metadata": {},
     "output_type": "execute_result"
    }
   ],
   "source": [
    "days = 30\n",
    "days += 3\n",
    "days"
   ]
  },
  {
   "cell_type": "code",
   "execution_count": 18,
   "metadata": {
    "collapsed": false
   },
   "outputs": [
    {
     "name": "stdout",
     "output_type": "stream",
     "text": [
      "True\n",
      "False\n",
      "True\n",
      "False\n",
      "False\n"
     ]
    }
   ],
   "source": [
    "print(8 == 8)\n",
    "print(8 == 7)\n",
    "print(8 != 7)\n",
    "print(8 == \"8\") # False\n",
    "print(False == \"False\") # False\n"
   ]
  },
  {
   "cell_type": "code",
   "execution_count": 19,
   "metadata": {
    "collapsed": false,
    "scrolled": true
   },
   "outputs": [
    {
     "name": "stdout",
     "output_type": "stream",
     "text": [
      "True\n",
      "False\n",
      "True\n",
      "True\n",
      "False\n",
      "True\n"
     ]
    }
   ],
   "source": [
    "print(1 == True)\n",
    "print(2 == True) # False\n",
    "print(0 == False)\n",
    "print(2 >= True)\n",
    "print(True & False)\n",
    "print(True | False)"
   ]
  },
  {
   "cell_type": "code",
   "execution_count": 28,
   "metadata": {
    "collapsed": false
   },
   "outputs": [
    {
     "name": "stdout",
     "output_type": "stream",
     "text": [
      "<class 'list'>\n"
     ]
    }
   ],
   "source": [
    "# list\n",
    "team_name = \"Chicago Bulls\"\n",
    "wins = 72\n",
    "losses = 10\n",
    "win_percentage = wins / (wins + losses)\n",
    "is_champion = True\n",
    "\n",
    "chicago_bulls = [team_name, wins, losses, win_percentage, is_champion]\n",
    "chicago_bulls\n",
    "\n",
    "print(type(chicago_bulls))"
   ]
  },
  {
   "cell_type": "code",
   "execution_count": 29,
   "metadata": {
    "collapsed": false
   },
   "outputs": [
    {
     "name": "stdout",
     "output_type": "stream",
     "text": [
      "<class 'tuple'>\n"
     ]
    }
   ],
   "source": [
    "# tuple\n",
    "team_name = \"Chicago Bulls\"\n",
    "wins = 72\n",
    "losses = 10\n",
    "win_percentage = wins / (wins + losses)\n",
    "is_champion = True\n",
    "\n",
    "#chicago_bulls_list = [team_name, wins, losses, win_percentage, is_champion]\n",
    "chicago_bulls_tuple = (team_name, wins, losses, win_percentage, is_champion)\n",
    "chicago_bulls_tuple\n",
    "# chicago_bulls_tuple = tuple(chicago_bulls_list)\n",
    "print(type(chicago_bulls_tuple))"
   ]
  },
  {
   "cell_type": "code",
   "execution_count": 30,
   "metadata": {
    "collapsed": false
   },
   "outputs": [
    {
     "name": "stdout",
     "output_type": "stream",
     "text": [
      "<class 'dict'>\n"
     ]
    }
   ],
   "source": [
    "# dict\n",
    "team_name = \"Chicago Bulls\"\n",
    "wins = 72\n",
    "losses = 10\n",
    "win_percentage = wins / (wins + losses)\n",
    "is_champion = True\n",
    "\n",
    "chicago_bulls = {\n",
    "    \"team_name\": team_name,\n",
    "    \"wins\": wins,\n",
    "    \"losses\": losses,\n",
    "    \"win_percentage\": win_percentage,\n",
    "    \"is_champion\": is_champion\n",
    "}\n",
    "chicago_bulls\n",
    "print(type(chicago_bulls))"
   ]
  },
  {
   "cell_type": "code",
   "execution_count": 32,
   "metadata": {
    "collapsed": false
   },
   "outputs": [
    {
     "name": "stdout",
     "output_type": "stream",
     "text": [
      "<class 'list'>\n",
      "<class 'float'>\n"
     ]
    }
   ],
   "source": [
    "#我們的問題\n",
    "#.我想一次把這幾個距離從公里換算成英里\n",
    "km_list = [3, 5, 10, 21, 42.195]\n",
    "km_to_mile = 0.621371192\n",
    "#mile_list = km_list * km_to_mile\n",
    "#mile_list\n",
    "print(type(km_list))\n",
    "print(type(km_to_mile))"
   ]
  },
  {
   "cell_type": "code",
   "execution_count": 40,
   "metadata": {
    "collapsed": false
   },
   "outputs": [
    {
     "data": {
      "text/plain": [
       "float"
      ]
     },
     "execution_count": 40,
     "metadata": {},
     "output_type": "execute_result"
    }
   ],
   "source": [
    "type(8.7)"
   ]
  },
  {
   "cell_type": "code",
   "execution_count": 39,
   "metadata": {
    "collapsed": false
   },
   "outputs": [
    {
     "name": "stdout",
     "output_type": "stream",
     "text": [
      "<class 'float'>\n",
      "<class 'int'>\n",
      "<class 'complex'>\n",
      "<class 'bool'>\n",
      "<class 'str'>\n"
     ]
    }
   ],
   "source": [
    "print(type(8.7))\n",
    "print(type(87))\n",
    "print(type(8+7j))\n",
    "print(type(8>7))\n",
    "print(type(\"python\"))"
   ]
  },
  {
   "cell_type": "code",
   "execution_count": 43,
   "metadata": {
    "collapsed": false
   },
   "outputs": [
    {
     "name": "stdout",
     "output_type": "stream",
     "text": [
      "<class 'numpy.ndarray'>\n",
      "[  1.86411358   3.10685596   6.21371192  13.04879503  26.21875745]\n",
      "<class 'numpy.ndarray'>\n"
     ]
    }
   ],
   "source": [
    "import numpy # 引入 numpy 套件\n",
    "\n",
    "km_list = [3, 5, 10, 21, 42.195]\n",
    "km_array = numpy.array(km_list)\n",
    "print(type(km_array))\n",
    "km_to_mile = 0.621371192\n",
    "mile_array = km_array * km_to_mile\n",
    "print(mile_array)\n",
    "print(type(mile_array))"
   ]
  },
  {
   "cell_type": "code",
   "execution_count": 20,
   "metadata": {
    "collapsed": false
   },
   "outputs": [
    {
     "name": "stdout",
     "output_type": "stream",
     "text": [
      "<class 'list'>\n",
      "<class 'list'>\n",
      "[173 168 171 189 179]\n",
      "<class 'numpy.ndarray'>\n",
      "<class 'numpy.ndarray'>\n",
      "[ 21.85171573  20.97505669  21.75028214  24.7473475   21.44127836]\n"
     ]
    }
   ],
   "source": [
    "#練習計算 BMI\n",
    "#.請同學練習計算這五個人的 BMI\n",
    "import numpy \n",
    "heights = [173, 168, 171, 189, 179]\n",
    "weights = [65.4, 59.2, 63.6, 88.4, 68.7]\n",
    "print(type(heights))\n",
    "print(type(weights))\n",
    "heights_array = numpy.array(heights)\n",
    "print(heights_array)\n",
    "weights_array = numpy.array(weights)\n",
    "print(type(heights_array))\n",
    "print(type(weights_array))\n",
    "bmi=weights_array/((heights_array/100)**2)\n",
    "print(bmi)"
   ]
  },
  {
   "cell_type": "code",
   "execution_count": null,
   "metadata": {
    "collapsed": true
   },
   "outputs": [],
   "source": []
  },
  {
   "cell_type": "code",
   "execution_count": 25,
   "metadata": {
    "collapsed": false
   },
   "outputs": [
    {
     "name": "stdout",
     "output_type": "stream",
     "text": [
      "[1 1]\n",
      "<class 'numpy.ndarray'>\n",
      "int32\n",
      "['1' 'True' 'one']\n",
      "<class 'numpy.ndarray'>\n",
      "<U11\n"
     ]
    }
   ],
   "source": [
    "#ndarray 只能容許一個變數類型\n",
    "#.同時儲存有數值，布林值，會被自動轉換為數值\n",
    "#.同時儲存有數值，布林值與文字，會被自動轉換為文字\n",
    "import numpy as np\n",
    "\n",
    "my_np_array = np.array([1, True])\n",
    "print(my_np_array)\n",
    "print(type(my_np_array))\n",
    "print(my_np_array.dtype)\n",
    "my_np_array = np.array([1, True, \"one\"])\n",
    "print(my_np_array)\n",
    "print(type(my_np_array))\n",
    "print(my_np_array.dtype)"
   ]
  },
  {
   "cell_type": "code",
   "execution_count": 28,
   "metadata": {
    "collapsed": false
   },
   "outputs": [
    {
     "data": {
      "text/plain": [
       "array([[1, 3],\n",
       "       [2, 4]])"
      ]
     },
     "execution_count": 28,
     "metadata": {},
     "output_type": "execute_result"
    }
   ],
   "source": [
    "#ndarray 可以建立矩陣\n",
    "import numpy as np\n",
    "\n",
    "my_2d_array = np.array([[1, 3],\n",
    "                        [2, 4]])\n",
    "\n",
    "print(my_2d_array)\n",
    "print(my_2d_array ** 2) # 矩陣也能完全適用 element-wise 運算"
   ]
  },
  {
   "cell_type": "code",
   "execution_count": 33,
   "metadata": {
    "collapsed": false
   },
   "outputs": [
    {
     "name": "stdout",
     "output_type": "stream",
     "text": [
      "[[1 2]\n",
      " [3 4]\n",
      " [5 6]\n",
      " [7 8]]\n"
     ]
    }
   ],
   "source": [
    "#使用.reshape來改變\n",
    "\n",
    "import numpy as np\n",
    "\n",
    "my_array = np.array([1,2,3,4,5,6,7,8])\n",
    "my_array\n",
    "print(my_array.reshape(4,2))\n"
   ]
  },
  {
   "cell_type": "code",
   "execution_count": 16,
   "metadata": {
    "collapsed": false
   },
   "outputs": [
    {
     "name": "stdout",
     "output_type": "stream",
     "text": [
      "[1 2 3 4]\n",
      "1\n",
      "2\n",
      "3\n",
      "4\n",
      "11\n",
      "33\n",
      "22\n",
      "44\n"
     ]
    }
   ],
   "source": [
    "#選擇 ndarray 的元素\n",
    "#.用索引值選擇\n",
    "\n",
    "import numpy as np\n",
    "\n",
    "my_np_array = np.array([1, 2, 3, 4])\n",
    "print(my_np_array)\n",
    "print(my_np_array[0])\n",
    "print(my_np_array[1])\n",
    "print(my_np_array[2])\n",
    "print(my_np_array[3])\n",
    "\n",
    "my_2d_array = np.array([[11, 33],\n",
    "                        [22, 44]])\n",
    "print(my_2d_array[0, 0])\n",
    "print(my_2d_array[0, 1])\n",
    "print(my_2d_array[1, 0])\n",
    "print(my_2d_array[1, 1])"
   ]
  },
  {
   "cell_type": "code",
   "execution_count": 18,
   "metadata": {
    "collapsed": false
   },
   "outputs": [
    {
     "name": "stdout",
     "output_type": "stream",
     "text": [
      "4\n",
      "(4,)\n",
      "1\n",
      "---\n",
      "4\n",
      "(2, 2)\n",
      "2\n"
     ]
    }
   ],
   "source": [
    "#了解外觀的屬性\n",
    "#.size\n",
    "#.shape\n",
    "#.ndim\n",
    "import numpy as np\n",
    "\n",
    "my_np_array = np.array([1, 2, 3, 4])\n",
    "print(my_np_array.size)\n",
    "print(my_np_array.shape)\n",
    "print(my_np_array.ndim)\n",
    "\n",
    "print(\"---\") # 分隔一下\n",
    "\n",
    "my_2d_array = np.array([[1, 3],\n",
    "                        [2, 4]])\n",
    "print(my_2d_array.size)\n",
    "print(my_2d_array.shape)\n",
    "print(my_2d_array.ndim)"
   ]
  },
  {
   "cell_type": "code",
   "execution_count": 72,
   "metadata": {
    "collapsed": false
   },
   "outputs": [
    {
     "name": "stdout",
     "output_type": "stream",
     "text": [
      "2.2\n"
     ]
    }
   ],
   "source": [
    "print(1.2+True)"
   ]
  },
  {
   "cell_type": "code",
   "execution_count": 73,
   "metadata": {
    "collapsed": false
   },
   "outputs": [
    {
     "data": {
      "text/plain": [
       "6"
      ]
     },
     "execution_count": 73,
     "metadata": {},
     "output_type": "execute_result"
    }
   ],
   "source": [
    "True+5"
   ]
  },
  {
   "cell_type": "code",
   "execution_count": 74,
   "metadata": {
    "collapsed": false
   },
   "outputs": [
    {
     "data": {
      "text/plain": [
       "1"
      ]
     },
     "execution_count": 74,
     "metadata": {},
     "output_type": "execute_result"
    }
   ],
   "source": [
    "False+1"
   ]
  },
  {
   "cell_type": "code",
   "execution_count": 78,
   "metadata": {
    "collapsed": false
   },
   "outputs": [
    {
     "data": {
      "text/plain": [
       "'AAA BBB ! ! !'"
      ]
     },
     "execution_count": 78,
     "metadata": {},
     "output_type": "execute_result"
    }
   ],
   "source": [
    "\"AAA\"+\" BBB\"+\" !\"*3"
   ]
  },
  {
   "cell_type": "code",
   "execution_count": 85,
   "metadata": {
    "collapsed": false
   },
   "outputs": [
    {
     "name": "stdout",
     "output_type": "stream",
     "text": [
      "In order to become a marathon runner, you have to run 42.195 kilometers in a race.\n"
     ]
    },
    {
     "data": {
      "text/plain": [
       "str"
      ]
     },
     "execution_count": 85,
     "metadata": {},
     "output_type": "execute_result"
    }
   ],
   "source": [
    "#km = \"42.195\"\n",
    "km =42.195\n",
    "print(\"In order to become a marathon runner, you have to run \" + str(km) + \" kilometers in a race.\") # TypeError\n",
    "type(str(km))"
   ]
  },
  {
   "cell_type": "code",
   "execution_count": 86,
   "metadata": {
    "collapsed": false
   },
   "outputs": [
    {
     "name": "stdout",
     "output_type": "stream",
     "text": [
      "1\n"
     ]
    }
   ],
   "source": [
    "print(int(bool(\"True\")))"
   ]
  },
  {
   "cell_type": "code",
   "execution_count": 92,
   "metadata": {
    "collapsed": false
   },
   "outputs": [
    {
     "name": "stdout",
     "output_type": "stream",
     "text": [
      "<class 'bool'>\n",
      "1.0\n",
      "1\n",
      "(1+0j)\n",
      "<class 'str'>\n",
      "<class 'bool'>\n",
      "<class 'bool'>\n",
      "<class 'bool'>\n"
     ]
    }
   ],
   "source": [
    "x=True\n",
    "print(type(x))\n",
    "print(float(x))\n",
    "print(int(x))\n",
    "print(complex(x))\n",
    "print(type(str(x)))\n",
    "print(type(bool(123)))\n",
    "print(type(bool(2-5j)))\n",
    "print(type(bool(0)))"
   ]
  },
  {
   "cell_type": "code",
   "execution_count": 88,
   "metadata": {
    "collapsed": false
   },
   "outputs": [
    {
     "data": {
      "text/plain": [
       "True"
      ]
     },
     "execution_count": 88,
     "metadata": {},
     "output_type": "execute_result"
    }
   ],
   "source": [
    "bool(-1)"
   ]
  },
  {
   "cell_type": "code",
   "execution_count": 96,
   "metadata": {
    "collapsed": false
   },
   "outputs": [
    {
     "name": "stdout",
     "output_type": "stream",
     "text": [
      "True\n",
      "False\n",
      "False\n",
      "False\n",
      "---\n",
      "True\n",
      "True\n",
      "True\n",
      "False\n"
     ]
    }
   ],
   "source": [
    "print(True & True)\n",
    "print(True & False)\n",
    "print(False & True)\n",
    "print(False & False)\n",
    "print(\"---\")\n",
    "print(True | True)\n",
    "print(True | False)\n",
    "print(False | True)\n",
    "print(False | False)"
   ]
  },
  {
   "cell_type": "code",
   "execution_count": 4,
   "metadata": {
    "collapsed": false
   },
   "outputs": [
    {
     "name": "stdout",
     "output_type": "stream",
     "text": [
      "{'team_name': ['Chicago Bulls', 'gold state '], 'wins': [72, 73], 'losses': [10, 9], 'win_percentage': [0.88, 0.99], 'is_champion': [True, False]}\n",
      "Chicago Bulls\n",
      "73\n",
      "<class 'str'>\n",
      "<class 'int'>\n"
     ]
    }
   ],
   "source": [
    "team_name = [\"Chicago Bulls\",\"gold state \"]\n",
    "wins = [72,73]\n",
    "losses = [10,9]\n",
    "win_percentage = [0.88,0.99]\n",
    "is_champion = [True,False]\n",
    "season=[\"1995-96\",\"2015-16\"]\n",
    "\n",
    "great_nba_teams_dict = {\n",
    "    \"team_name\": team_name,\n",
    "    \"wins\": wins,\n",
    "    \"losses\": losses,\n",
    "    \"win_percentage\": win_percentage,\n",
    "    \"is_champion\": is_champion\n",
    "}\n",
    "print(great_nba_teams_dict)\n",
    "\n",
    "great_nba_teams_dict[\"team_name\"]    #中括號內放key\n",
    "great_nba_teams_dict[\"team_name\"][0] #再選list裡面index[0]的值  \n",
    "great_nba_teams_dict[\"wins\"][1] #再選list裡面index[0]的值\n",
    "\n",
    "print(great_nba_teams_dict[\"team_name\"][0])\n",
    "print(great_nba_teams_dict[\"wins\"][1])\n",
    "\n",
    "\n",
    "print(type(great_nba_teams_dict[\"team_name\"][0]))\n",
    "print(type(great_nba_teams_dict[\"wins\"][1]))\n"
   ]
  },
  {
   "cell_type": "code",
   "execution_count": 3,
   "metadata": {
    "collapsed": false
   },
   "outputs": [
    {
     "ename": "TypeError",
     "evalue": "unsupported operand type(s) for /: 'list' and 'list'",
     "output_type": "error",
     "traceback": [
      "\u001b[0;31m---------------------------------------------------------------------------\u001b[0m",
      "\u001b[0;31mTypeError\u001b[0m                                 Traceback (most recent call last)",
      "\u001b[0;32m<ipython-input-3-abd72e6335dc>\u001b[0m in \u001b[0;36m<module>\u001b[0;34m()\u001b[0m\n\u001b[1;32m      1\u001b[0m \u001b[0mwins\u001b[0m \u001b[1;33m=\u001b[0m \u001b[1;33m[\u001b[0m\u001b[1;36m72\u001b[0m\u001b[1;33m,\u001b[0m\u001b[1;36m73\u001b[0m\u001b[1;33m]\u001b[0m\u001b[1;33m\u001b[0m\u001b[0m\n\u001b[1;32m      2\u001b[0m \u001b[0mlosses\u001b[0m \u001b[1;33m=\u001b[0m \u001b[1;33m[\u001b[0m\u001b[1;36m10\u001b[0m\u001b[1;33m,\u001b[0m\u001b[1;36m9\u001b[0m\u001b[1;33m]\u001b[0m\u001b[1;33m\u001b[0m\u001b[0m\n\u001b[0;32m----> 3\u001b[0;31m \u001b[0mwin_percentage\u001b[0m \u001b[1;33m=\u001b[0m \u001b[0mwins\u001b[0m\u001b[1;33m/\u001b[0m\u001b[1;33m(\u001b[0m\u001b[0mwins\u001b[0m\u001b[1;33m+\u001b[0m\u001b[0mlosses\u001b[0m\u001b[1;33m)\u001b[0m\u001b[1;33m\u001b[0m\u001b[0m\n\u001b[0m",
      "\u001b[0;31mTypeError\u001b[0m: unsupported operand type(s) for /: 'list' and 'list'"
     ]
    }
   ],
   "source": [
    "wins = [72,73]\n",
    "losses = [10,9]\n",
    "win_percentage = wins/(wins+losses)"
   ]
  },
  {
   "cell_type": "code",
   "execution_count": 7,
   "metadata": {
    "collapsed": false
   },
   "outputs": [
    {
     "data": {
      "text/plain": [
       "array([ 0.87804878,  0.8902439 ])"
      ]
     },
     "execution_count": 7,
     "metadata": {},
     "output_type": "execute_result"
    }
   ],
   "source": [
    "import numpy as np\n",
    "wins=np.array([72,73])\n",
    "losses=np.array([10,9])\n",
    "win_percentage=wins/(wins+losses)\n",
    "win_percentage\n",
    "\n"
   ]
  },
  {
   "cell_type": "code",
   "execution_count": 8,
   "metadata": {
    "collapsed": false
   },
   "outputs": [
    {
     "ename": "TypeError",
     "evalue": "can't multiply sequence by non-int of type 'float'",
     "output_type": "error",
     "traceback": [
      "\u001b[0;31m---------------------------------------------------------------------------\u001b[0m",
      "\u001b[0;31mTypeError\u001b[0m                                 Traceback (most recent call last)",
      "\u001b[0;32m<ipython-input-8-810357153141>\u001b[0m in \u001b[0;36m<module>\u001b[0;34m()\u001b[0m\n\u001b[1;32m      1\u001b[0m \u001b[0mkm_list\u001b[0m \u001b[1;33m=\u001b[0m \u001b[1;33m[\u001b[0m\u001b[1;36m3\u001b[0m\u001b[1;33m,\u001b[0m \u001b[1;36m5\u001b[0m\u001b[1;33m,\u001b[0m \u001b[1;36m10\u001b[0m\u001b[1;33m,\u001b[0m \u001b[1;36m21\u001b[0m\u001b[1;33m,\u001b[0m \u001b[1;36m42.195\u001b[0m\u001b[1;33m]\u001b[0m\u001b[1;33m\u001b[0m\u001b[0m\n\u001b[1;32m      2\u001b[0m \u001b[0mkm_to_mile\u001b[0m \u001b[1;33m=\u001b[0m \u001b[1;36m0.621371192\u001b[0m\u001b[1;33m\u001b[0m\u001b[0m\n\u001b[0;32m----> 3\u001b[0;31m \u001b[0mmile_list\u001b[0m \u001b[1;33m=\u001b[0m \u001b[0mkm_list\u001b[0m \u001b[1;33m*\u001b[0m \u001b[0mkm_to_mile\u001b[0m\u001b[1;33m\u001b[0m\u001b[0m\n\u001b[0m",
      "\u001b[0;31mTypeError\u001b[0m: can't multiply sequence by non-int of type 'float'"
     ]
    }
   ],
   "source": [
    "km_list = [3, 5, 10, 21, 42.195]\n",
    "km_to_mile = 0.621371192\n",
    "mile_list = km_list * km_to_mile"
   ]
  },
  {
   "cell_type": "code",
   "execution_count": 9,
   "metadata": {
    "collapsed": false
   },
   "outputs": [
    {
     "data": {
      "text/plain": [
       "[1.864113576, 3.10685596, 6.21371192, 13.048795032000001, 26.21875744644]"
      ]
     },
     "execution_count": 9,
     "metadata": {},
     "output_type": "execute_result"
    }
   ],
   "source": [
    "#用迴圈\n",
    "km_list = [3, 5, 10, 21, 42.195]\n",
    "km_to_mile = 0.621371192\n",
    "mile_list=[]\n",
    "for km in km_list:\n",
    "    mile_list.append(km*km_to_mile)\n",
    "\n",
    "mile_list\n"
   ]
  },
  {
   "cell_type": "code",
   "execution_count": 12,
   "metadata": {
    "collapsed": false
   },
   "outputs": [
    {
     "name": "stdout",
     "output_type": "stream",
     "text": [
      "<class 'list'>\n"
     ]
    }
   ],
   "source": [
    "#用map()和lambda函數\n",
    "km_list = [3, 5, 10, 21, 42.195]\n",
    "mile_list=list(map(lambda x:x*0.621371192, km_list))\n",
    "mile_list\n",
    "print(type(mile_list))"
   ]
  },
  {
   "cell_type": "code",
   "execution_count": 13,
   "metadata": {
    "collapsed": false
   },
   "outputs": [
    {
     "name": "stdout",
     "output_type": "stream",
     "text": [
      "<class 'numpy.ndarray'>\n",
      "[  1.86411358   3.10685596   6.21371192  13.04879503  26.21875745]\n"
     ]
    }
   ],
   "source": [
    "import numpy # 引入 numpy 套件\n",
    "\n",
    "km_list = [3, 5, 10, 21, 42.195]\n",
    "km_array = numpy.array(km_list)  #轉換成ndarray\n",
    "print(type(km_array))\n",
    "\n",
    "km_to_mile = 0.621371192\n",
    "mile_array = km_array * km_to_mile\n",
    "print(mile_array)"
   ]
  },
  {
   "cell_type": "code",
   "execution_count": 13,
   "metadata": {
    "collapsed": false
   },
   "outputs": [
    {
     "name": "stdout",
     "output_type": "stream",
     "text": [
      "<class 'list'>\n",
      "<class 'list'>\n",
      "<class 'dict'>\n",
      "<class 'pandas.core.frame.DataFrame'>\n"
     ]
    },
    {
     "data": {
      "text/html": [
       "<div>\n",
       "<table border=\"1\" class=\"dataframe\">\n",
       "  <thead>\n",
       "    <tr style=\"text-align: right;\">\n",
       "      <th></th>\n",
       "      <th>age</th>\n",
       "      <th>name</th>\n",
       "    </tr>\n",
       "  </thead>\n",
       "  <tbody>\n",
       "    <tr>\n",
       "      <th>0</th>\n",
       "      <td>19</td>\n",
       "      <td>Monkey D. Luffy</td>\n",
       "    </tr>\n",
       "    <tr>\n",
       "      <th>1</th>\n",
       "      <td>21</td>\n",
       "      <td>Roronoa Zoro</td>\n",
       "    </tr>\n",
       "    <tr>\n",
       "      <th>2</th>\n",
       "      <td>20</td>\n",
       "      <td>Nami</td>\n",
       "    </tr>\n",
       "    <tr>\n",
       "      <th>3</th>\n",
       "      <td>19</td>\n",
       "      <td>Usopp</td>\n",
       "    </tr>\n",
       "    <tr>\n",
       "      <th>4</th>\n",
       "      <td>21</td>\n",
       "      <td>Vinsmoke Sanji</td>\n",
       "    </tr>\n",
       "    <tr>\n",
       "      <th>5</th>\n",
       "      <td>17</td>\n",
       "      <td>Tony Tony Chopper</td>\n",
       "    </tr>\n",
       "    <tr>\n",
       "      <th>6</th>\n",
       "      <td>30</td>\n",
       "      <td>Nico Robin</td>\n",
       "    </tr>\n",
       "    <tr>\n",
       "      <th>7</th>\n",
       "      <td>36</td>\n",
       "      <td>Franky</td>\n",
       "    </tr>\n",
       "    <tr>\n",
       "      <th>8</th>\n",
       "      <td>90</td>\n",
       "      <td>Brook</td>\n",
       "    </tr>\n",
       "  </tbody>\n",
       "</table>\n",
       "</div>"
      ],
      "text/plain": [
       "   age               name\n",
       "0   19    Monkey D. Luffy\n",
       "1   21       Roronoa Zoro\n",
       "2   20               Nami\n",
       "3   19              Usopp\n",
       "4   21     Vinsmoke Sanji\n",
       "5   17  Tony Tony Chopper\n",
       "6   30         Nico Robin\n",
       "7   36             Franky\n",
       "8   90              Brook"
      ]
     },
     "execution_count": 13,
     "metadata": {},
     "output_type": "execute_result"
    }
   ],
   "source": [
    "import pandas as pd # 引用套件並縮寫為 pd\n",
    "\n",
    "name = [\"Monkey D. Luffy\", \"Roronoa Zoro\", \"Nami\", \"Usopp\", \"Vinsmoke Sanji\", \"Tony Tony Chopper\", \"Nico Robin\", \"Franky\", \"Brook\"]\n",
    "age = [19, 21, 20, 19, 21, 17, 30, 36, 90]\n",
    "\n",
    "straw_hat_dict = {\"name\": name,\n",
    "                  \"age\": age\n",
    "}\n",
    "\n",
    "straw_hat_df = pd.DataFrame(straw_hat_dict,columns=[\"age\",\"name\"]) # 改變欄位順序\n",
    "print(type(name))\n",
    "print(type(age))\n",
    "print(type(straw_hat_dict))\n",
    "print(type(straw_hat_df))\n",
    "straw_hat_df\n"
   ]
  },
  {
   "cell_type": "code",
   "execution_count": 17,
   "metadata": {
    "collapsed": false
   },
   "outputs": [
    {
     "name": "stdout",
     "output_type": "stream",
     "text": [
      "---\n",
      "age         int64\n",
      "is_male      bool\n",
      "name       object\n",
      "dtype: object\n",
      "---\n",
      "   age is_male               name\n",
      "0   19    True    Monkey D. Luffy\n",
      "1   21    True       Roronoa Zoro\n",
      "2   20   False               Nami\n",
      "3   19    True              Usopp\n",
      "4   21    True     Vinsmoke Sanji\n",
      "5   17    True  Tony Tony Chopper\n",
      "6   30   False         Nico Robin\n",
      "7   36    True             Franky\n",
      "8   90    True              Brook\n",
      "---\n",
      "(9, 3)\n",
      "---\n",
      "             age\n",
      "count   9.000000\n",
      "mean   30.333333\n",
      "std    23.205603\n",
      "min    17.000000\n",
      "25%    19.000000\n",
      "50%    21.000000\n",
      "75%    30.000000\n",
      "max    90.000000\n",
      "---\n",
      "   age is_male             name\n",
      "0   19    True  Monkey D. Luffy\n",
      "1   21    True     Roronoa Zoro\n",
      "2   20   False             Nami\n",
      "---\n",
      "   age is_male        name\n",
      "6   30   False  Nico Robin\n",
      "7   36    True      Franky\n",
      "8   90    True       Brook\n",
      "---\n",
      "Index(['age', 'is_male', 'name'], dtype='object')\n"
     ]
    }
   ],
   "source": [
    "#了解 data frame 的概觀\n",
    "import pandas as pd # 引用套件並縮寫為 pd\n",
    "\n",
    "name = [\"Monkey D. Luffy\", \"Roronoa Zoro\", \"Nami\", \"Usopp\", \"Vinsmoke Sanji\", \"Tony Tony Chopper\", \"Nico Robin\", \"Franky\", \"Brook\"]\n",
    "age = [19, 21, 20, 19, 21, 17, 30, 36, 90]\n",
    "is_male = [True, True, False, True, True, True, False, True, True] #是男性\n",
    "\n",
    "straw_hat_dict = {\"name\": name,\n",
    "                  \"age\": age,\n",
    "                  \"is_male\": is_male\n",
    "}\n",
    "\n",
    "straw_hat_df = pd.DataFrame(straw_hat_dict)\n",
    "print(\"---\")\n",
    "print(straw_hat_df.dtypes) #看欄位的type\n",
    "print(\"---\")\n",
    "print(straw_hat_df)\n",
    "print(\"---\")\n",
    "print(straw_hat_df.shape) # 回傳列數與欄數\n",
    "print(\"---\")\n",
    "print(straw_hat_df.describe()) # 回傳描述性統計\n",
    "print(\"---\")\n",
    "print(straw_hat_df.head(3)) # 回傳前三筆觀測值  預設前五筆\n",
    "print(\"---\")\n",
    "print(straw_hat_df.tail(3)) # 回傳後三筆觀測值 預設後五筆\n",
    "print(\"---\")\n",
    "print(straw_hat_df.columns) # 回傳欄位名稱"
   ]
  },
  {
   "cell_type": "code",
   "execution_count": 18,
   "metadata": {
    "collapsed": false
   },
   "outputs": [
    {
     "data": {
      "text/html": [
       "<div>\n",
       "<table border=\"1\" class=\"dataframe\">\n",
       "  <thead>\n",
       "    <tr style=\"text-align: right;\">\n",
       "      <th></th>\n",
       "      <th>Sepal.Length</th>\n",
       "      <th>Sepal.Width</th>\n",
       "      <th>Petal.Length</th>\n",
       "      <th>Petal.Width</th>\n",
       "      <th>Species</th>\n",
       "    </tr>\n",
       "  </thead>\n",
       "  <tbody>\n",
       "    <tr>\n",
       "      <th>0</th>\n",
       "      <td>5.1</td>\n",
       "      <td>3.5</td>\n",
       "      <td>1.4</td>\n",
       "      <td>0.2</td>\n",
       "      <td>setosa</td>\n",
       "    </tr>\n",
       "    <tr>\n",
       "      <th>1</th>\n",
       "      <td>4.9</td>\n",
       "      <td>3.0</td>\n",
       "      <td>1.4</td>\n",
       "      <td>0.2</td>\n",
       "      <td>setosa</td>\n",
       "    </tr>\n",
       "    <tr>\n",
       "      <th>2</th>\n",
       "      <td>4.7</td>\n",
       "      <td>3.2</td>\n",
       "      <td>1.3</td>\n",
       "      <td>0.2</td>\n",
       "      <td>setosa</td>\n",
       "    </tr>\n",
       "  </tbody>\n",
       "</table>\n",
       "</div>"
      ],
      "text/plain": [
       "   Sepal.Length  Sepal.Width  Petal.Length  Petal.Width Species\n",
       "0           5.1          3.5           1.4          0.2  setosa\n",
       "1           4.9          3.0           1.4          0.2  setosa\n",
       "2           4.7          3.2           1.3          0.2  setosa"
      ]
     },
     "execution_count": 18,
     "metadata": {},
     "output_type": "execute_result"
    }
   ],
   "source": [
    "#讀取外部資料\n",
    "#使用 pandas 套件的 .read_csv() 方法讀取 csv 檔案\n",
    "import pandas as pd\n",
    "\n",
    "url = \"https://storage.googleapis.com/py_ds_basic/iris.csv\" # 在雲端上儲存了一份 csv 檔案\n",
    "iris_df = pd.read_csv(url)\n",
    "iris_df.head(3)"
   ]
  },
  {
   "cell_type": "code",
   "execution_count": 31,
   "metadata": {
    "collapsed": false
   },
   "outputs": [
    {
     "name": "stdout",
     "output_type": "stream",
     "text": [
      "---\n",
      "age         int64\n",
      "is_male      bool\n",
      "name       object\n",
      "dtype: object\n",
      "---\n",
      "   age is_male               name\n",
      "0   19    True    Monkey D. Luffy\n",
      "1   21    True       Roronoa Zoro\n",
      "2   20   False               Nami\n",
      "3   19    True              Usopp\n",
      "4   21    True     Vinsmoke Sanji\n",
      "5   17    True  Tony Tony Chopper\n",
      "6   30   False         Nico Robin\n",
      "7   36    True             Franky\n",
      "8   90    True              Brook\n",
      "---\n",
      "age                     19\n",
      "is_male               True\n",
      "name       Monkey D. Luffy\n",
      "Name: 0, dtype: object\n",
      "---\n",
      "0    19\n",
      "1    21\n",
      "2    20\n",
      "3    19\n",
      "4    21\n",
      "5    17\n",
      "6    30\n",
      "7    36\n",
      "8    90\n",
      "Name: age, dtype: int64\n",
      "---\n",
      "0    19\n",
      "1    21\n",
      "2    20\n",
      "3    19\n",
      "4    21\n",
      "5    17\n",
      "6    30\n",
      "7    36\n",
      "8    90\n",
      "Name: age, dtype: int64\n",
      "---\n",
      "19\n",
      "---\n",
      "0    19\n",
      "1    21\n",
      "2    20\n",
      "3    19\n",
      "Name: age, dtype: int64\n",
      "---\n"
     ]
    }
   ],
   "source": [
    "#了解 data frame 的概觀\n",
    "import pandas as pd # 引用套件並縮寫為 pd\n",
    "\n",
    "name = [\"Monkey D. Luffy\", \"Roronoa Zoro\", \"Nami\", \"Usopp\", \"Vinsmoke Sanji\", \"Tony Tony Chopper\", \"Nico Robin\", \"Franky\", \"Brook\"]\n",
    "age = [19, 21, 20, 19, 21, 17, 30, 36, 90]\n",
    "is_male = [True, True, False, True, True, True, False, True, True] #是男性\n",
    "\n",
    "straw_hat_dict = {\"name\": name,\n",
    "                  \"age\": age,\n",
    "                  \"is_male\": is_male\n",
    "}\n",
    "\n",
    "straw_hat_df = pd.DataFrame(straw_hat_dict)\n",
    "print(\"---\")\n",
    "print(straw_hat_df.dtypes) #看欄位的type\n",
    "print(\"---\")\n",
    "print(straw_hat_df)\n",
    "print(\"---\")\n",
    "print(straw_hat_df.ix[0,:]) #.ix屬性,第一個觀測值,所有的column!\n",
    "print(\"---\")\n",
    "print(straw_hat_df.ix[:,\"age\"]) #.ix屬性,所有觀測值的\"age\"column!\n",
    "print(\"---\")\n",
    "print(straw_hat_df.age) #.ix屬性,所有觀測值的\"age\"column!\n",
    "print(\"---\")\n",
    "print(straw_hat_df.ix[0,\"age\"]) #.ix屬性\n",
    "print(\"---\")\n",
    "print(straw_hat_df.ix[0:3,\"age\"]) #.ix屬性\n",
    "print(\"---\")"
   ]
  },
  {
   "cell_type": "code",
   "execution_count": 33,
   "metadata": {
    "collapsed": false
   },
   "outputs": [
    {
     "name": "stdout",
     "output_type": "stream",
     "text": [
      "   Sepal.Length  Sepal.Width  Petal.Length  Petal.Width Species\n",
      "0           5.1          3.5           1.4          0.2  setosa\n",
      "1           4.9          3.0           1.4          0.2  setosa\n",
      "2           4.7          3.2           1.3          0.2  setosa\n",
      "<class 'pandas.core.frame.DataFrame'>\n",
      "---\n",
      "<class 'pandas.core.series.Series'>\n",
      "---\n",
      "<class 'numpy.ndarray'>\n"
     ]
    }
   ],
   "source": [
    "import pandas as pd\n",
    "\n",
    "url = \"https://storage.googleapis.com/py_ds_basic/iris.csv\" # 在雲端上儲存了一份 csv 檔案\n",
    "iris_df = pd.read_csv(url)\n",
    "print(iris_df.head(3))\n",
    "print(type(iris_df))\n",
    "print(\"---\")\n",
    "print(type(iris_df.Species))\n",
    "print(\"---\")\n",
    "print(type(iris_df.values))"
   ]
  },
  {
   "cell_type": "code",
   "execution_count": 40,
   "metadata": {
    "collapsed": false
   },
   "outputs": [
    {
     "name": "stdout",
     "output_type": "stream",
     "text": [
      "---\n",
      "age         int64\n",
      "is_male      bool\n",
      "name       object\n",
      "dtype: object\n",
      "---\n",
      "   age is_male               name\n",
      "0   19    True    Monkey D. Luffy\n",
      "1   21    True       Roronoa Zoro\n",
      "2   20   False               Nami\n",
      "3   19    True              Usopp\n",
      "4   21    True     Vinsmoke Sanji\n",
      "5   17    True  Tony Tony Chopper\n",
      "6   30   False         Nico Robin\n",
      "7   36    True             Franky\n",
      "8   90    True              Brook\n",
      "---\n",
      "0     True\n",
      "1     True\n",
      "2     True\n",
      "3     True\n",
      "4     True\n",
      "5     True\n",
      "6    False\n",
      "7    False\n",
      "8    False\n",
      "Name: age, dtype: bool\n",
      "---\n",
      "   age is_male               name\n",
      "0   19    True    Monkey D. Luffy\n",
      "1   21    True       Roronoa Zoro\n",
      "2   20   False               Nami\n",
      "3   19    True              Usopp\n",
      "4   21    True     Vinsmoke Sanji\n",
      "5   17    True  Tony Tony Chopper\n",
      "---\n",
      "   age is_male        name\n",
      "2   20   False        Nami\n",
      "6   30   False  Nico Robin\n",
      "---\n",
      "   age is_male    name\n",
      "7   36    True  Franky\n",
      "8   90    True   Brook\n"
     ]
    }
   ],
   "source": [
    "#了解 data frame 的概觀\n",
    "import pandas as pd # 引用套件並縮寫為 pd\n",
    "\n",
    "name = [\"Monkey D. Luffy\", \"Roronoa Zoro\", \"Nami\", \"Usopp\", \"Vinsmoke Sanji\", \"Tony Tony Chopper\", \"Nico Robin\", \"Franky\", \"Brook\"]\n",
    "age = [19, 21, 20, 19, 21, 17, 30, 36, 90]\n",
    "is_male = [True, True, False, True, True, True, False, True, True] #是男性\n",
    "\n",
    "straw_hat_dict = {\"name\": name,\n",
    "                  \"age\": age,\n",
    "                  \"is_male\": is_male\n",
    "}\n",
    "\n",
    "straw_hat_df = pd.DataFrame(straw_hat_dict)\n",
    "print(\"---\")\n",
    "print(straw_hat_df.dtypes) #看欄位的type\n",
    "print(\"---\")\n",
    "print(straw_hat_df)\n",
    "print(\"---\")\n",
    "print(straw_hat_df.age <30)\n",
    "print(\"---\")\n",
    "print(straw_hat_df[straw_hat_df.age <30])\n",
    "print(\"---\")\n",
    "print(straw_hat_df[straw_hat_df.is_male==False])\n",
    "print(\"---\")\n",
    "print(straw_hat_df[(straw_hat_df.is_male==True) & (straw_hat_df.age >=30) ])"
   ]
  },
  {
   "cell_type": "code",
   "execution_count": 41,
   "metadata": {
    "collapsed": false
   },
   "outputs": [
    {
     "data": {
      "text/html": [
       "<div>\n",
       "<table border=\"1\" class=\"dataframe\">\n",
       "  <thead>\n",
       "    <tr style=\"text-align: right;\">\n",
       "      <th></th>\n",
       "      <th>age</th>\n",
       "      <th>is_male</th>\n",
       "      <th>name</th>\n",
       "    </tr>\n",
       "  </thead>\n",
       "  <tbody>\n",
       "    <tr>\n",
       "      <th>0</th>\n",
       "      <td>19.0</td>\n",
       "      <td>True</td>\n",
       "      <td>Monkey D. Luffy</td>\n",
       "    </tr>\n",
       "    <tr>\n",
       "      <th>1</th>\n",
       "      <td>21.0</td>\n",
       "      <td>True</td>\n",
       "      <td>Roronoa Zoro</td>\n",
       "    </tr>\n",
       "    <tr>\n",
       "      <th>2</th>\n",
       "      <td>20.0</td>\n",
       "      <td>False</td>\n",
       "      <td>Nami</td>\n",
       "    </tr>\n",
       "    <tr>\n",
       "      <th>3</th>\n",
       "      <td>19.0</td>\n",
       "      <td>True</td>\n",
       "      <td>Usopp</td>\n",
       "    </tr>\n",
       "    <tr>\n",
       "      <th>4</th>\n",
       "      <td>21.0</td>\n",
       "      <td>True</td>\n",
       "      <td>Vinsmoke Sanji</td>\n",
       "    </tr>\n",
       "    <tr>\n",
       "      <th>5</th>\n",
       "      <td>17.0</td>\n",
       "      <td>NaN</td>\n",
       "      <td>Tony Tony Chopper</td>\n",
       "    </tr>\n",
       "    <tr>\n",
       "      <th>6</th>\n",
       "      <td>30.0</td>\n",
       "      <td>False</td>\n",
       "      <td>Nico Robin</td>\n",
       "    </tr>\n",
       "    <tr>\n",
       "      <th>7</th>\n",
       "      <td>36.0</td>\n",
       "      <td>True</td>\n",
       "      <td>Franky</td>\n",
       "    </tr>\n",
       "    <tr>\n",
       "      <th>8</th>\n",
       "      <td>NaN</td>\n",
       "      <td>True</td>\n",
       "      <td>Brook</td>\n",
       "    </tr>\n",
       "    <tr>\n",
       "      <th>9</th>\n",
       "      <td>NaN</td>\n",
       "      <td>NaN</td>\n",
       "      <td>NaN</td>\n",
       "    </tr>\n",
       "  </tbody>\n",
       "</table>\n",
       "</div>"
      ],
      "text/plain": [
       "    age is_male               name\n",
       "0  19.0    True    Monkey D. Luffy\n",
       "1  21.0    True       Roronoa Zoro\n",
       "2  20.0   False               Nami\n",
       "3  19.0    True              Usopp\n",
       "4  21.0    True     Vinsmoke Sanji\n",
       "5  17.0     NaN  Tony Tony Chopper\n",
       "6  30.0   False         Nico Robin\n",
       "7  36.0    True             Franky\n",
       "8   NaN    True              Brook\n",
       "9   NaN     NaN                NaN"
      ]
     },
     "execution_count": 41,
     "metadata": {},
     "output_type": "execute_result"
    }
   ],
   "source": [
    "#處理遺漏值\n",
    "#利用 numpy.NaN 建立遺漏值\n",
    "import pandas as pd # 引用套件並縮寫為 pd\n",
    "import numpy as np\n",
    "\n",
    "name = [\"Monkey D. Luffy\", \"Roronoa Zoro\", \"Nami\", \"Usopp\", \"Vinsmoke Sanji\", \"Tony Tony Chopper\", \"Nico Robin\", \"Franky\", \"Brook\", np.NaN]\n",
    "age = [19, 21, 20, 19, 21, 17, 30, 36, np.NaN, np.NaN]\n",
    "is_male = [True, True, False, True, True, np.NaN, False, True, True, np.NaN]\n",
    "\n",
    "straw_hat_dict = {\"name\": name,\n",
    "                  \"age\": age,\n",
    "                  \"is_male\": is_male\n",
    "}\n",
    "\n",
    "straw_hat_df = pd.DataFrame(straw_hat_dict)\n",
    "straw_hat_df"
   ]
  },
  {
   "cell_type": "code",
   "execution_count": 53,
   "metadata": {
    "collapsed": false
   },
   "outputs": [
    {
     "name": "stdout",
     "output_type": "stream",
     "text": [
      "   age is_male               name\n",
      "0   19    True    Monkey D. Luffy\n",
      "1   21    True       Roronoa Zoro\n",
      "2   20   False               Nami\n",
      "3   19    True              Usopp\n",
      "4   21    True     Vinsmoke Sanji\n",
      "5   17    True  Tony Tony Chopper\n",
      "6   30   False         Nico Robin\n",
      "7   36    True             Franky\n",
      "8   90    True              Brook\n",
      "---\n",
      "   age is_male\n",
      "0   19    True\n",
      "1   21    True\n",
      "2   20   False\n",
      "3   19    True\n",
      "4   21    True\n",
      "5   17    True\n",
      "6   30   False\n",
      "7   36    True\n",
      "8   90    True\n",
      "---\n",
      "0      Monkey D. Luffy\n",
      "1         Roronoa Zoro\n",
      "2                 Nami\n",
      "3                Usopp\n",
      "4       Vinsmoke Sanji\n",
      "5    Tony Tony Chopper\n",
      "6           Nico Robin\n",
      "7               Franky\n",
      "8                Brook\n",
      "Name: name, dtype: object\n",
      "---\n"
     ]
    },
    {
     "data": {
      "text/html": [
       "<div>\n",
       "<table border=\"1\" class=\"dataframe\">\n",
       "  <thead>\n",
       "    <tr style=\"text-align: right;\">\n",
       "      <th></th>\n",
       "      <th>name</th>\n",
       "      <th>name</th>\n",
       "    </tr>\n",
       "  </thead>\n",
       "  <tbody>\n",
       "    <tr>\n",
       "      <th>0</th>\n",
       "      <td>Monkey D. Luffy</td>\n",
       "      <td>Monkey D. Luffy</td>\n",
       "    </tr>\n",
       "    <tr>\n",
       "      <th>1</th>\n",
       "      <td>Roronoa Zoro</td>\n",
       "      <td>Roronoa Zoro</td>\n",
       "    </tr>\n",
       "    <tr>\n",
       "      <th>2</th>\n",
       "      <td>Nami</td>\n",
       "      <td>Nami</td>\n",
       "    </tr>\n",
       "    <tr>\n",
       "      <th>3</th>\n",
       "      <td>Usopp</td>\n",
       "      <td>Usopp</td>\n",
       "    </tr>\n",
       "    <tr>\n",
       "      <th>4</th>\n",
       "      <td>Vinsmoke Sanji</td>\n",
       "      <td>Vinsmoke Sanji</td>\n",
       "    </tr>\n",
       "    <tr>\n",
       "      <th>5</th>\n",
       "      <td>Tony Tony Chopper</td>\n",
       "      <td>Tony Tony Chopper</td>\n",
       "    </tr>\n",
       "    <tr>\n",
       "      <th>6</th>\n",
       "      <td>Nico Robin</td>\n",
       "      <td>Nico Robin</td>\n",
       "    </tr>\n",
       "    <tr>\n",
       "      <th>7</th>\n",
       "      <td>Franky</td>\n",
       "      <td>Franky</td>\n",
       "    </tr>\n",
       "    <tr>\n",
       "      <th>8</th>\n",
       "      <td>Brook</td>\n",
       "      <td>Brook</td>\n",
       "    </tr>\n",
       "  </tbody>\n",
       "</table>\n",
       "</div>"
      ],
      "text/plain": [
       "                name               name\n",
       "0    Monkey D. Luffy    Monkey D. Luffy\n",
       "1       Roronoa Zoro       Roronoa Zoro\n",
       "2               Nami               Nami\n",
       "3              Usopp              Usopp\n",
       "4     Vinsmoke Sanji     Vinsmoke Sanji\n",
       "5  Tony Tony Chopper  Tony Tony Chopper\n",
       "6         Nico Robin         Nico Robin\n",
       "7             Franky             Franky\n",
       "8              Brook              Brook"
      ]
     },
     "execution_count": 53,
     "metadata": {},
     "output_type": "execute_result"
    }
   ],
   "source": [
    "#合併\n",
    "#pandas.concat() 方法\n",
    "#練習將 straw_hat_sub_df_1 與 straw_hat_sub_df_2 水平合併起來\n",
    "import pandas as pd # 引用套件並縮寫為 pd\n",
    "\n",
    "name = [\"Monkey D. Luffy\", \"Roronoa Zoro\", \"Nami\", \"Usopp\", \"Vinsmoke Sanji\", \"Tony Tony Chopper\", \"Nico Robin\", \"Franky\", \"Brook\"]\n",
    "age = [19, 21, 20, 19, 21, 17, 30, 36, 90]\n",
    "is_male = [True, True, False, True, True, True, False, True, True]\n",
    "\n",
    "straw_hat_dict = {\"name\": name,\n",
    "                  \"age\": age,\n",
    "                  \"is_male\": is_male\n",
    "}\n",
    "\n",
    "straw_hat_df = pd.DataFrame(straw_hat_dict)\n",
    "print(straw_hat_df)\n",
    "print(\"---\")\n",
    "straw_hat_sub_df_1 = straw_hat_df.ix[:, \"age\":\"is_male\"]\n",
    "print(straw_hat_sub_df_1)\n",
    "print(\"---\")\n",
    "straw_hat_sub_df_2 = straw_hat_df.ix[:, \"name\"]\n",
    "print(straw_hat_sub_df_2)\n",
    "print(\"---\")\n",
    "pd.concat([___, ___], axis = 1)"
   ]
  },
  {
   "cell_type": "code",
   "execution_count": 62,
   "metadata": {
    "collapsed": false
   },
   "outputs": [
    {
     "name": "stdout",
     "output_type": "stream",
     "text": [
      "<class 'pandas.core.frame.DataFrame'>\n",
      "---\n",
      "(150, 5)\n",
      "---\n",
      "   Sepal.Length  Sepal.Width  Petal.Length  Petal.Width Species\n",
      "0           5.1          3.5           1.4          0.2  setosa\n",
      "1           4.9          3.0           1.4          0.2  setosa\n",
      "2           4.7          3.2           1.3          0.2  setosa\n",
      "3           4.6          3.1           1.5          0.2  setosa\n",
      "4           5.0          3.6           1.4          0.2  setosa\n",
      "---\n"
     ]
    }
   ],
   "source": [
    "import pandas as pd\n",
    "\n",
    "url = \"https://storage.googleapis.com/py_ds_basic/iris.csv\" # 在雲端上儲存了一份 csv 檔案\n",
    "iris_df = pd.read_csv(url)\n",
    "print(type(iris_df))\n",
    "print(\"---\")\n",
    "print(iris_df.shape)\n",
    "print(\"---\")\n",
    "print(iris_df.head())\n",
    "print(\"---\")"
   ]
  },
  {
   "cell_type": "code",
   "execution_count": 66,
   "metadata": {
    "collapsed": false
   },
   "outputs": [
    {
     "name": "stdout",
     "output_type": "stream",
     "text": [
      "---\n",
      "   Sepal.Length  Sepal.Width  Petal.Length  Petal.Width Species\n",
      "0           5.1          3.5           1.4          0.2  setosa\n",
      "1           4.9          3.0           1.4          0.2  setosa\n",
      "2           4.7          3.2           1.3          0.2  setosa\n",
      "3           4.6          3.1           1.5          0.2  setosa\n",
      "4           5.0          3.6           1.4          0.2  setosa\n",
      "---\n"
     ]
    }
   ],
   "source": [
    "import pandas as pd\n",
    "\n",
    "url = \"https://storage.googleapis.com/py_ds_basic/iris.tsv\" # 在雲端上儲存了一份 tsv 檔案\n",
    "iris_df = pd.read_table(url,sep=\"\\t\")                       # read_table \n",
    "\n",
    "print(\"---\")\n",
    "print(iris_df.head())\n",
    "print(\"---\")"
   ]
  },
  {
   "cell_type": "code",
   "execution_count": 69,
   "metadata": {
    "collapsed": false
   },
   "outputs": [
    {
     "name": "stdout",
     "output_type": "stream",
     "text": [
      "---\n",
      "   Sepal.Length  Sepal.Width  Petal.Length  Petal.Width Species\n",
      "0           5.1          3.5           1.4          0.2  setosa\n",
      "1           4.9          3.0           1.4          0.2  setosa\n",
      "2           4.7          3.2           1.3          0.2  setosa\n",
      "3           4.6          3.1           1.5          0.2  setosa\n",
      "4           5.0          3.6           1.4          0.2  setosa\n",
      "---\n"
     ]
    }
   ],
   "source": [
    "import pandas as pd\n",
    "\n",
    "url = \"https://storage.googleapis.com/py_ds_basic/iris.xlsx\" # 在雲端上儲存了一份xlsx 檔案\n",
    "iris_df = pd.read_excel(url)            # read_excel\n",
    "\n",
    "print(\"---\")\n",
    "print(iris_df.head())\n",
    "print(\"---\")"
   ]
  },
  {
   "cell_type": "code",
   "execution_count": 70,
   "metadata": {
    "collapsed": false
   },
   "outputs": [
    {
     "name": "stdout",
     "output_type": "stream",
     "text": [
      "---\n",
      "   Petal.Length  Petal.Width  Sepal.Length  Sepal.Width Species\n",
      "0           1.4          0.2           5.1          3.5  setosa\n",
      "1           1.4          0.2           4.9          3.0  setosa\n",
      "2           1.3          0.2           4.7          3.2  setosa\n",
      "3           1.5          0.2           4.6          3.1  setosa\n",
      "4           1.4          0.2           5.0          3.6  setosa\n",
      "---\n"
     ]
    }
   ],
   "source": [
    "import pandas as pd\n",
    "\n",
    "url = \"https://storage.googleapis.com/py_ds_basic/iris.json\" # 在雲端上儲存了一份xlsx 檔案\n",
    "iris_df = pd.read_json(url)            # read_json\n",
    "\n",
    "print(\"---\")\n",
    "print(iris_df.head())\n",
    "print(\"---\")"
   ]
  },
  {
   "cell_type": "code",
   "execution_count": 75,
   "metadata": {
    "collapsed": false
   },
   "outputs": [
    {
     "name": "stdout",
     "output_type": "stream",
     "text": [
      "---\n",
      "   Petal.Length  Petal.Width  Sepal.Length  Sepal.Width Species\n",
      "0           1.4          0.2           5.1          3.5  setosa\n",
      "1           1.4          0.2           4.9          3.0  setosa\n",
      "2           1.3          0.2           4.7          3.2  setosa\n",
      "3           1.5          0.2           4.6          3.1  setosa\n",
      "4           1.4          0.2           5.0          3.6  setosa\n",
      "---\n",
      "(150, 5)\n",
      "---\n",
      "Index(['Petal.Length', 'Petal.Width', 'Sepal.Length', 'Sepal.Width',\n",
      "       'Species'],\n",
      "      dtype='object')\n",
      "---\n",
      "       Petal.Length  Petal.Width  Sepal.Length  Sepal.Width\n",
      "count    150.000000   150.000000    150.000000   150.000000\n",
      "mean       3.758000     1.199333      5.843333     3.057333\n",
      "std        1.765298     0.762238      0.828066     0.435866\n",
      "min        1.000000     0.100000      4.300000     2.000000\n",
      "25%        1.600000     0.300000      5.100000     2.800000\n",
      "50%        4.350000     1.300000      5.800000     3.000000\n",
      "75%        5.100000     1.800000      6.400000     3.300000\n",
      "max        6.900000     2.500000      7.900000     4.400000\n",
      "---\n",
      "0         setosa\n",
      "1         setosa\n",
      "2         setosa\n",
      "3         setosa\n",
      "4         setosa\n",
      "5         setosa\n",
      "6         setosa\n",
      "7         setosa\n",
      "8         setosa\n",
      "9         setosa\n",
      "10        setosa\n",
      "11        setosa\n",
      "12        setosa\n",
      "13        setosa\n",
      "14        setosa\n",
      "15        setosa\n",
      "16        setosa\n",
      "17        setosa\n",
      "18        setosa\n",
      "19        setosa\n",
      "20        setosa\n",
      "21        setosa\n",
      "22        setosa\n",
      "23        setosa\n",
      "24        setosa\n",
      "25        setosa\n",
      "26        setosa\n",
      "27        setosa\n",
      "28        setosa\n",
      "29        setosa\n",
      "         ...    \n",
      "120    virginica\n",
      "121    virginica\n",
      "122    virginica\n",
      "123    virginica\n",
      "124    virginica\n",
      "125    virginica\n",
      "126    virginica\n",
      "127    virginica\n",
      "128    virginica\n",
      "129    virginica\n",
      "130    virginica\n",
      "131    virginica\n",
      "132    virginica\n",
      "133    virginica\n",
      "134    virginica\n",
      "135    virginica\n",
      "136    virginica\n",
      "137    virginica\n",
      "138    virginica\n",
      "139    virginica\n",
      "140    virginica\n",
      "141    virginica\n",
      "142    virginica\n",
      "143    virginica\n",
      "144    virginica\n",
      "145    virginica\n",
      "146    virginica\n",
      "147    virginica\n",
      "148    virginica\n",
      "149    virginica\n",
      "Name: Species, dtype: object\n",
      "---\n",
      "0         setosa\n",
      "1         setosa\n",
      "2         setosa\n",
      "3         setosa\n",
      "4         setosa\n",
      "5         setosa\n",
      "6         setosa\n",
      "7         setosa\n",
      "8         setosa\n",
      "9         setosa\n",
      "10        setosa\n",
      "11        setosa\n",
      "12        setosa\n",
      "13        setosa\n",
      "14        setosa\n",
      "15        setosa\n",
      "16        setosa\n",
      "17        setosa\n",
      "18        setosa\n",
      "19        setosa\n",
      "20        setosa\n",
      "21        setosa\n",
      "22        setosa\n",
      "23        setosa\n",
      "24        setosa\n",
      "25        setosa\n",
      "26        setosa\n",
      "27        setosa\n",
      "28        setosa\n",
      "29        setosa\n",
      "         ...    \n",
      "120    virginica\n",
      "121    virginica\n",
      "122    virginica\n",
      "123    virginica\n",
      "124    virginica\n",
      "125    virginica\n",
      "126    virginica\n",
      "127    virginica\n",
      "128    virginica\n",
      "129    virginica\n",
      "130    virginica\n",
      "131    virginica\n",
      "132    virginica\n",
      "133    virginica\n",
      "134    virginica\n",
      "135    virginica\n",
      "136    virginica\n",
      "137    virginica\n",
      "138    virginica\n",
      "139    virginica\n",
      "140    virginica\n",
      "141    virginica\n",
      "142    virginica\n",
      "143    virginica\n",
      "144    virginica\n",
      "145    virginica\n",
      "146    virginica\n",
      "147    virginica\n",
      "148    virginica\n",
      "149    virginica\n",
      "Name: Species, dtype: object\n",
      "---\n",
      "0         setosa\n",
      "1         setosa\n",
      "2         setosa\n",
      "3         setosa\n",
      "4         setosa\n",
      "5         setosa\n",
      "6         setosa\n",
      "7         setosa\n",
      "8         setosa\n",
      "9         setosa\n",
      "10        setosa\n",
      "11        setosa\n",
      "12        setosa\n",
      "13        setosa\n",
      "14        setosa\n",
      "15        setosa\n",
      "16        setosa\n",
      "17        setosa\n",
      "18        setosa\n",
      "19        setosa\n",
      "20        setosa\n",
      "21        setosa\n",
      "22        setosa\n",
      "23        setosa\n",
      "24        setosa\n",
      "25        setosa\n",
      "26        setosa\n",
      "27        setosa\n",
      "28        setosa\n",
      "29        setosa\n",
      "         ...    \n",
      "120    virginica\n",
      "121    virginica\n",
      "122    virginica\n",
      "123    virginica\n",
      "124    virginica\n",
      "125    virginica\n",
      "126    virginica\n",
      "127    virginica\n",
      "128    virginica\n",
      "129    virginica\n",
      "130    virginica\n",
      "131    virginica\n",
      "132    virginica\n",
      "133    virginica\n",
      "134    virginica\n",
      "135    virginica\n",
      "136    virginica\n",
      "137    virginica\n",
      "138    virginica\n",
      "139    virginica\n",
      "140    virginica\n",
      "141    virginica\n",
      "142    virginica\n",
      "143    virginica\n",
      "144    virginica\n",
      "145    virginica\n",
      "146    virginica\n",
      "147    virginica\n",
      "148    virginica\n",
      "149    virginica\n",
      "Name: Species, dtype: object\n"
     ]
    }
   ],
   "source": [
    "import pandas as pd\n",
    "\n",
    "url = \"https://storage.googleapis.com/py_ds_basic/iris.json\" # 在雲端上儲存了一份xlsx 檔案\n",
    "iris_df = pd.read_json(url)            # read_json\n",
    "\n",
    "print(\"---\")\n",
    "print(iris_df.head())\n",
    "print(\"---\")\n",
    "print(iris_df.shape) # 回傳列數與欄數\n",
    "print(\"---\")\n",
    "print(iris_df.columns) # 回傳欄位名稱\n",
    "print(\"---\")\n",
    "print(iris_df.describe()) # 回傳描述性統計\n",
    "print(\"---\")\n",
    "print(iris_df.Species)\n",
    "print(\"---\")\n",
    "print(iris_df.ix[:,\"Species\"])\n",
    "print(\"---\")\n",
    "print(iris_df.Species)"
   ]
  },
  {
   "cell_type": "code",
   "execution_count": 76,
   "metadata": {
    "collapsed": false
   },
   "outputs": [
    {
     "name": "stdout",
     "output_type": "stream",
     "text": [
      "---\n",
      "0         setosa\n",
      "1         setosa\n",
      "2         setosa\n",
      "3         setosa\n",
      "4         setosa\n",
      "5         setosa\n",
      "6         setosa\n",
      "7         setosa\n",
      "8         setosa\n",
      "9         setosa\n",
      "10        setosa\n",
      "11        setosa\n",
      "12        setosa\n",
      "13        setosa\n",
      "14        setosa\n",
      "15        setosa\n",
      "16        setosa\n",
      "17        setosa\n",
      "18        setosa\n",
      "19        setosa\n",
      "20        setosa\n",
      "21        setosa\n",
      "22        setosa\n",
      "23        setosa\n",
      "24        setosa\n",
      "25        setosa\n",
      "26        setosa\n",
      "27        setosa\n",
      "28        setosa\n",
      "29        setosa\n",
      "         ...    \n",
      "120    virginica\n",
      "121    virginica\n",
      "122    virginica\n",
      "123    virginica\n",
      "124    virginica\n",
      "125    virginica\n",
      "126    virginica\n",
      "127    virginica\n",
      "128    virginica\n",
      "129    virginica\n",
      "130    virginica\n",
      "131    virginica\n",
      "132    virginica\n",
      "133    virginica\n",
      "134    virginica\n",
      "135    virginica\n",
      "136    virginica\n",
      "137    virginica\n",
      "138    virginica\n",
      "139    virginica\n",
      "140    virginica\n",
      "141    virginica\n",
      "142    virginica\n",
      "143    virginica\n",
      "144    virginica\n",
      "145    virginica\n",
      "146    virginica\n",
      "147    virginica\n",
      "148    virginica\n",
      "149    virginica\n",
      "Name: Species, dtype: object\n"
     ]
    }
   ],
   "source": [
    "import pandas as pd\n",
    "\n",
    "url = \"https://storage.googleapis.com/py_ds_basic/iris.json\" # 在雲端上儲存了一份xlsx 檔案\n",
    "iris_df = pd.read_json(url)            # read_json\n",
    "\n",
    "print(\"---\")\n",
    "print(iris_df.Species)"
   ]
  },
  {
   "cell_type": "code",
   "execution_count": 77,
   "metadata": {
    "collapsed": false
   },
   "outputs": [
    {
     "name": "stdout",
     "output_type": "stream",
     "text": [
      "0      5.1\n",
      "1      4.9\n",
      "2      4.7\n",
      "3      4.6\n",
      "4      5.0\n",
      "5      5.4\n",
      "6      4.6\n",
      "7      5.0\n",
      "8      4.4\n",
      "9      4.9\n",
      "10     5.4\n",
      "11     4.8\n",
      "12     4.8\n",
      "13     4.3\n",
      "14     5.8\n",
      "15     5.7\n",
      "16     5.4\n",
      "17     5.1\n",
      "18     5.7\n",
      "19     5.1\n",
      "20     5.4\n",
      "21     5.1\n",
      "22     4.6\n",
      "23     5.1\n",
      "24     4.8\n",
      "25     5.0\n",
      "26     5.0\n",
      "27     5.2\n",
      "28     5.2\n",
      "29     4.7\n",
      "      ... \n",
      "120    6.9\n",
      "121    5.6\n",
      "122    7.7\n",
      "123    6.3\n",
      "124    6.7\n",
      "125    7.2\n",
      "126    6.2\n",
      "127    6.1\n",
      "128    6.4\n",
      "129    7.2\n",
      "130    7.4\n",
      "131    7.9\n",
      "132    6.4\n",
      "133    6.3\n",
      "134    6.1\n",
      "135    7.7\n",
      "136    6.3\n",
      "137    6.4\n",
      "138    6.0\n",
      "139    6.9\n",
      "140    6.7\n",
      "141    6.9\n",
      "142    5.8\n",
      "143    6.8\n",
      "144    6.7\n",
      "145    6.7\n",
      "146    6.3\n",
      "147    6.5\n",
      "148    6.2\n",
      "149    5.9\n",
      "Name: Sepal.Length, dtype: float64\n",
      "---\n"
     ]
    }
   ],
   "source": [
    "print(iris_df.ix[:,\"Sepal.Length\"])\n",
    "print(\"---\")"
   ]
  },
  {
   "cell_type": "code",
   "execution_count": 81,
   "metadata": {
    "collapsed": false
   },
   "outputs": [
    {
     "data": {
      "text/plain": [
       "Index(['Sepal.Length', 'Sepal.Width', 'Petal.Length', 'Petal.Width',\n",
       "       'Species'],\n",
       "      dtype='object')"
      ]
     },
     "execution_count": 81,
     "metadata": {},
     "output_type": "execute_result"
    }
   ],
   "source": [
    "import pandas as pd\n",
    "\n",
    "url = \"https://storage.googleapis.com/py_ds_basic/iris.csv\" # 在雲端上儲存了一份 csv 檔案\n",
    "iris_df = pd.read_csv(url)\n",
    "type(iris_df.values)\n",
    "iris_df.index\n",
    "iris_df.columns"
   ]
  },
  {
   "cell_type": "code",
   "execution_count": 87,
   "metadata": {
    "collapsed": false
   },
   "outputs": [
    {
     "name": "stdout",
     "output_type": "stream",
     "text": [
      "     Sepal.Length  Sepal.Width  Petal.Length  Petal.Width    Species\n",
      "149           5.9          3.0           5.1          1.8  virginica\n",
      "148           6.2          3.4           5.4          2.3  virginica\n",
      "147           6.5          3.0           5.2          2.0  virginica\n",
      "146           6.3          2.5           5.0          1.9  virginica\n",
      "145           6.7          3.0           5.2          2.3  virginica\n",
      "144           6.7          3.3           5.7          2.5  virginica\n",
      "143           6.8          3.2           5.9          2.3  virginica\n",
      "142           5.8          2.7           5.1          1.9  virginica\n",
      "141           6.9          3.1           5.1          2.3  virginica\n",
      "140           6.7          3.1           5.6          2.4  virginica\n",
      "139           6.9          3.1           5.4          2.1  virginica\n",
      "138           6.0          3.0           4.8          1.8  virginica\n",
      "137           6.4          3.1           5.5          1.8  virginica\n",
      "136           6.3          3.4           5.6          2.4  virginica\n",
      "135           7.7          3.0           6.1          2.3  virginica\n",
      "134           6.1          2.6           5.6          1.4  virginica\n",
      "133           6.3          2.8           5.1          1.5  virginica\n",
      "132           6.4          2.8           5.6          2.2  virginica\n",
      "131           7.9          3.8           6.4          2.0  virginica\n",
      "130           7.4          2.8           6.1          1.9  virginica\n",
      "129           7.2          3.0           5.8          1.6  virginica\n",
      "128           6.4          2.8           5.6          2.1  virginica\n",
      "127           6.1          3.0           4.9          1.8  virginica\n",
      "126           6.2          2.8           4.8          1.8  virginica\n",
      "125           7.2          3.2           6.0          1.8  virginica\n",
      "124           6.7          3.3           5.7          2.1  virginica\n",
      "123           6.3          2.7           4.9          1.8  virginica\n",
      "122           7.7          2.8           6.7          2.0  virginica\n",
      "121           5.6          2.8           4.9          2.0  virginica\n",
      "120           6.9          3.2           5.7          2.3  virginica\n",
      "..            ...          ...           ...          ...        ...\n",
      "29            4.7          3.2           1.6          0.2     setosa\n",
      "28            5.2          3.4           1.4          0.2     setosa\n",
      "27            5.2          3.5           1.5          0.2     setosa\n",
      "26            5.0          3.4           1.6          0.4     setosa\n",
      "25            5.0          3.0           1.6          0.2     setosa\n",
      "24            4.8          3.4           1.9          0.2     setosa\n",
      "23            5.1          3.3           1.7          0.5     setosa\n",
      "22            4.6          3.6           1.0          0.2     setosa\n",
      "21            5.1          3.7           1.5          0.4     setosa\n",
      "20            5.4          3.4           1.7          0.2     setosa\n",
      "19            5.1          3.8           1.5          0.3     setosa\n",
      "18            5.7          3.8           1.7          0.3     setosa\n",
      "17            5.1          3.5           1.4          0.3     setosa\n",
      "16            5.4          3.9           1.3          0.4     setosa\n",
      "15            5.7          4.4           1.5          0.4     setosa\n",
      "14            5.8          4.0           1.2          0.2     setosa\n",
      "13            4.3          3.0           1.1          0.1     setosa\n",
      "12            4.8          3.0           1.4          0.1     setosa\n",
      "11            4.8          3.4           1.6          0.2     setosa\n",
      "10            5.4          3.7           1.5          0.2     setosa\n",
      "9             4.9          3.1           1.5          0.1     setosa\n",
      "8             4.4          2.9           1.4          0.2     setosa\n",
      "7             5.0          3.4           1.5          0.2     setosa\n",
      "6             4.6          3.4           1.4          0.3     setosa\n",
      "5             5.4          3.9           1.7          0.4     setosa\n",
      "4             5.0          3.6           1.4          0.2     setosa\n",
      "3             4.6          3.1           1.5          0.2     setosa\n",
      "2             4.7          3.2           1.3          0.2     setosa\n",
      "1             4.9          3.0           1.4          0.2     setosa\n",
      "0             5.1          3.5           1.4          0.2     setosa\n",
      "\n",
      "[150 rows x 5 columns]\n"
     ]
    }
   ],
   "source": [
    "import pandas as pd\n",
    "\n",
    "url = \"https://storage.googleapis.com/py_ds_basic/iris.csv\" # 在雲端上儲存了一份 csv 檔案\n",
    "iris_df = pd.read_csv(url)\n",
    "iris_df\n",
    "print(iris_df.sort_index(axis=0,ascending=False)) # axis=0 以觀測值的方向去排;ascending=False 不要遞增"
   ]
  },
  {
   "cell_type": "code",
   "execution_count": 88,
   "metadata": {
    "collapsed": false
   },
   "outputs": [
    {
     "name": "stdout",
     "output_type": "stream",
     "text": [
      "       Species  Sepal.Width  Sepal.Length  Petal.Width  Petal.Length\n",
      "0       setosa          3.5           5.1          0.2           1.4\n",
      "1       setosa          3.0           4.9          0.2           1.4\n",
      "2       setosa          3.2           4.7          0.2           1.3\n",
      "3       setosa          3.1           4.6          0.2           1.5\n",
      "4       setosa          3.6           5.0          0.2           1.4\n",
      "5       setosa          3.9           5.4          0.4           1.7\n",
      "6       setosa          3.4           4.6          0.3           1.4\n",
      "7       setosa          3.4           5.0          0.2           1.5\n",
      "8       setosa          2.9           4.4          0.2           1.4\n",
      "9       setosa          3.1           4.9          0.1           1.5\n",
      "10      setosa          3.7           5.4          0.2           1.5\n",
      "11      setosa          3.4           4.8          0.2           1.6\n",
      "12      setosa          3.0           4.8          0.1           1.4\n",
      "13      setosa          3.0           4.3          0.1           1.1\n",
      "14      setosa          4.0           5.8          0.2           1.2\n",
      "15      setosa          4.4           5.7          0.4           1.5\n",
      "16      setosa          3.9           5.4          0.4           1.3\n",
      "17      setosa          3.5           5.1          0.3           1.4\n",
      "18      setosa          3.8           5.7          0.3           1.7\n",
      "19      setosa          3.8           5.1          0.3           1.5\n",
      "20      setosa          3.4           5.4          0.2           1.7\n",
      "21      setosa          3.7           5.1          0.4           1.5\n",
      "22      setosa          3.6           4.6          0.2           1.0\n",
      "23      setosa          3.3           5.1          0.5           1.7\n",
      "24      setosa          3.4           4.8          0.2           1.9\n",
      "25      setosa          3.0           5.0          0.2           1.6\n",
      "26      setosa          3.4           5.0          0.4           1.6\n",
      "27      setosa          3.5           5.2          0.2           1.5\n",
      "28      setosa          3.4           5.2          0.2           1.4\n",
      "29      setosa          3.2           4.7          0.2           1.6\n",
      "..         ...          ...           ...          ...           ...\n",
      "120  virginica          3.2           6.9          2.3           5.7\n",
      "121  virginica          2.8           5.6          2.0           4.9\n",
      "122  virginica          2.8           7.7          2.0           6.7\n",
      "123  virginica          2.7           6.3          1.8           4.9\n",
      "124  virginica          3.3           6.7          2.1           5.7\n",
      "125  virginica          3.2           7.2          1.8           6.0\n",
      "126  virginica          2.8           6.2          1.8           4.8\n",
      "127  virginica          3.0           6.1          1.8           4.9\n",
      "128  virginica          2.8           6.4          2.1           5.6\n",
      "129  virginica          3.0           7.2          1.6           5.8\n",
      "130  virginica          2.8           7.4          1.9           6.1\n",
      "131  virginica          3.8           7.9          2.0           6.4\n",
      "132  virginica          2.8           6.4          2.2           5.6\n",
      "133  virginica          2.8           6.3          1.5           5.1\n",
      "134  virginica          2.6           6.1          1.4           5.6\n",
      "135  virginica          3.0           7.7          2.3           6.1\n",
      "136  virginica          3.4           6.3          2.4           5.6\n",
      "137  virginica          3.1           6.4          1.8           5.5\n",
      "138  virginica          3.0           6.0          1.8           4.8\n",
      "139  virginica          3.1           6.9          2.1           5.4\n",
      "140  virginica          3.1           6.7          2.4           5.6\n",
      "141  virginica          3.1           6.9          2.3           5.1\n",
      "142  virginica          2.7           5.8          1.9           5.1\n",
      "143  virginica          3.2           6.8          2.3           5.9\n",
      "144  virginica          3.3           6.7          2.5           5.7\n",
      "145  virginica          3.0           6.7          2.3           5.2\n",
      "146  virginica          2.5           6.3          1.9           5.0\n",
      "147  virginica          3.0           6.5          2.0           5.2\n",
      "148  virginica          3.4           6.2          2.3           5.4\n",
      "149  virginica          3.0           5.9          1.8           5.1\n",
      "\n",
      "[150 rows x 5 columns]\n"
     ]
    }
   ],
   "source": [
    "import pandas as pd\n",
    "\n",
    "url = \"https://storage.googleapis.com/py_ds_basic/iris.csv\" # 在雲端上儲存了一份 csv 檔案\n",
    "iris_df = pd.read_csv(url)\n",
    "iris_df\n",
    "print(iris_df.sort_index(axis=1,ascending=False)) # axis=1 以變數名稱開頭的順序去排;ascending=False 不要遞增"
   ]
  },
  {
   "cell_type": "code",
   "execution_count": 92,
   "metadata": {
    "collapsed": false
   },
   "outputs": [
    {
     "name": "stdout",
     "output_type": "stream",
     "text": [
      "     Sepal.Length  Sepal.Width  Petal.Length  Petal.Width     Species\n",
      "131           7.9          3.8           6.4          2.0   virginica\n",
      "135           7.7          3.0           6.1          2.3   virginica\n",
      "122           7.7          2.8           6.7          2.0   virginica\n",
      "117           7.7          3.8           6.7          2.2   virginica\n",
      "118           7.7          2.6           6.9          2.3   virginica\n",
      "105           7.6          3.0           6.6          2.1   virginica\n",
      "130           7.4          2.8           6.1          1.9   virginica\n",
      "107           7.3          2.9           6.3          1.8   virginica\n",
      "125           7.2          3.2           6.0          1.8   virginica\n",
      "109           7.2          3.6           6.1          2.5   virginica\n",
      "129           7.2          3.0           5.8          1.6   virginica\n",
      "102           7.1          3.0           5.9          2.1   virginica\n",
      "50            7.0          3.2           4.7          1.4  versicolor\n",
      "120           6.9          3.2           5.7          2.3   virginica\n",
      "52            6.9          3.1           4.9          1.5  versicolor\n",
      "139           6.9          3.1           5.4          2.1   virginica\n",
      "141           6.9          3.1           5.1          2.3   virginica\n",
      "143           6.8          3.2           5.9          2.3   virginica\n",
      "76            6.8          2.8           4.8          1.4  versicolor\n",
      "112           6.8          3.0           5.5          2.1   virginica\n",
      "86            6.7          3.1           4.7          1.5  versicolor\n",
      "77            6.7          3.0           5.0          1.7  versicolor\n",
      "140           6.7          3.1           5.6          2.4   virginica\n",
      "144           6.7          3.3           5.7          2.5   virginica\n",
      "108           6.7          2.5           5.8          1.8   virginica\n",
      "145           6.7          3.0           5.2          2.3   virginica\n",
      "124           6.7          3.3           5.7          2.1   virginica\n",
      "65            6.7          3.1           4.4          1.4  versicolor\n",
      "58            6.6          2.9           4.6          1.3  versicolor\n",
      "75            6.6          3.0           4.4          1.4  versicolor\n",
      "..            ...          ...           ...          ...         ...\n",
      "49            5.0          3.3           1.4          0.2      setosa\n",
      "25            5.0          3.0           1.6          0.2      setosa\n",
      "93            5.0          2.3           3.3          1.0  versicolor\n",
      "35            5.0          3.2           1.2          0.2      setosa\n",
      "40            5.0          3.5           1.3          0.3      setosa\n",
      "7             5.0          3.4           1.5          0.2      setosa\n",
      "60            5.0          2.0           3.5          1.0  versicolor\n",
      "4             5.0          3.6           1.4          0.2      setosa\n",
      "57            4.9          2.4           3.3          1.0  versicolor\n",
      "1             4.9          3.0           1.4          0.2      setosa\n",
      "9             4.9          3.1           1.5          0.1      setosa\n",
      "34            4.9          3.1           1.5          0.2      setosa\n",
      "37            4.9          3.6           1.4          0.1      setosa\n",
      "106           4.9          2.5           4.5          1.7   virginica\n",
      "11            4.8          3.4           1.6          0.2      setosa\n",
      "30            4.8          3.1           1.6          0.2      setosa\n",
      "24            4.8          3.4           1.9          0.2      setosa\n",
      "45            4.8          3.0           1.4          0.3      setosa\n",
      "12            4.8          3.0           1.4          0.1      setosa\n",
      "29            4.7          3.2           1.6          0.2      setosa\n",
      "2             4.7          3.2           1.3          0.2      setosa\n",
      "22            4.6          3.6           1.0          0.2      setosa\n",
      "6             4.6          3.4           1.4          0.3      setosa\n",
      "47            4.6          3.2           1.4          0.2      setosa\n",
      "3             4.6          3.1           1.5          0.2      setosa\n",
      "41            4.5          2.3           1.3          0.3      setosa\n",
      "42            4.4          3.2           1.3          0.2      setosa\n",
      "38            4.4          3.0           1.3          0.2      setosa\n",
      "8             4.4          2.9           1.4          0.2      setosa\n",
      "13            4.3          3.0           1.1          0.1      setosa\n",
      "\n",
      "[150 rows x 5 columns]\n"
     ]
    }
   ],
   "source": [
    "import pandas as pd\n",
    "\n",
    "url = \"https://storage.googleapis.com/py_ds_basic/iris.csv\" # 在雲端上儲存了一份 csv 檔案\n",
    "iris_df = pd.read_csv(url)\n",
    "iris_df\n",
    "#print(iris_df.sort_values(by=\"Sepal.Length\")) #  照Sepal.Length的大小去排\n",
    "print(iris_df.sort_values(by=\"Sepal.Length\",ascending=False)) #  照Sepal.Length的大小去排"
   ]
  },
  {
   "cell_type": "code",
   "execution_count": 100,
   "metadata": {
    "collapsed": false
   },
   "outputs": [
    {
     "data": {
      "text/html": [
       "<div>\n",
       "<table border=\"1\" class=\"dataframe\">\n",
       "  <thead>\n",
       "    <tr style=\"text-align: right;\">\n",
       "      <th></th>\n",
       "      <th>name</th>\n",
       "      <th>age</th>\n",
       "      <th>is_male</th>\n",
       "    </tr>\n",
       "  </thead>\n",
       "  <tbody>\n",
       "    <tr>\n",
       "      <th>8</th>\n",
       "      <td>Brook</td>\n",
       "      <td>90</td>\n",
       "      <td>True</td>\n",
       "    </tr>\n",
       "    <tr>\n",
       "      <th>7</th>\n",
       "      <td>Franky</td>\n",
       "      <td>36</td>\n",
       "      <td>True</td>\n",
       "    </tr>\n",
       "    <tr>\n",
       "      <th>6</th>\n",
       "      <td>Nico Robin</td>\n",
       "      <td>30</td>\n",
       "      <td>False</td>\n",
       "    </tr>\n",
       "    <tr>\n",
       "      <th>1</th>\n",
       "      <td>Roronoa Zoro</td>\n",
       "      <td>21</td>\n",
       "      <td>True</td>\n",
       "    </tr>\n",
       "    <tr>\n",
       "      <th>4</th>\n",
       "      <td>Vinsmoke Sanji</td>\n",
       "      <td>21</td>\n",
       "      <td>True</td>\n",
       "    </tr>\n",
       "    <tr>\n",
       "      <th>2</th>\n",
       "      <td>Nami</td>\n",
       "      <td>20</td>\n",
       "      <td>False</td>\n",
       "    </tr>\n",
       "    <tr>\n",
       "      <th>0</th>\n",
       "      <td>Monkey D. Luffy</td>\n",
       "      <td>19</td>\n",
       "      <td>True</td>\n",
       "    </tr>\n",
       "    <tr>\n",
       "      <th>3</th>\n",
       "      <td>Usopp</td>\n",
       "      <td>19</td>\n",
       "      <td>True</td>\n",
       "    </tr>\n",
       "    <tr>\n",
       "      <th>5</th>\n",
       "      <td>Tony Tony Chopper</td>\n",
       "      <td>17</td>\n",
       "      <td>True</td>\n",
       "    </tr>\n",
       "  </tbody>\n",
       "</table>\n",
       "</div>"
      ],
      "text/plain": [
       "                name  age is_male\n",
       "8              Brook   90    True\n",
       "7             Franky   36    True\n",
       "6         Nico Robin   30   False\n",
       "1       Roronoa Zoro   21    True\n",
       "4     Vinsmoke Sanji   21    True\n",
       "2               Nami   20   False\n",
       "0    Monkey D. Luffy   19    True\n",
       "3              Usopp   19    True\n",
       "5  Tony Tony Chopper   17    True"
      ]
     },
     "execution_count": 100,
     "metadata": {},
     "output_type": "execute_result"
    }
   ],
   "source": [
    "import pandas as pd # 引用套件並縮寫為 pd\n",
    "\n",
    "name = [\"Monkey D. Luffy\", \"Roronoa Zoro\", \"Nami\", \"Usopp\", \"Vinsmoke Sanji\", \"Tony Tony Chopper\", \"Nico Robin\", \"Franky\", \"Brook\"]\n",
    "age = [19, 21, 20, 19, 21, 17, 30, 36, 90]\n",
    "is_male = [True, True, False, True, True, True, False, True, True]\n",
    "straw_hat_dict = {\"name\": name,\n",
    "                  \"age\": age,\n",
    "                  \"is_male\": is_male\n",
    "}\n",
    "\n",
    "straw_hat_df = pd.DataFrame(straw_hat_dict, columns = [\"name\", \"age\", \"is_male\"])\n",
    "#straw_hat_df.sort_index(axis=1,ascending=True) \n",
    "straw_hat_df.sort_index(axis=1,ascending=False) \n",
    "straw_hat_df.sort_values(by=\"age\",ascending=False) #\"age\"遞減"
   ]
  },
  {
   "cell_type": "code",
   "execution_count": 116,
   "metadata": {
    "collapsed": false
   },
   "outputs": [
    {
     "data": {
      "text/plain": [
       "49    0.0\n",
       "48    0.0\n",
       "47    0.0\n",
       "46    0.0\n",
       "45    0.0\n",
       "1     0.0\n",
       "dtype: float64"
      ]
     },
     "execution_count": 116,
     "metadata": {},
     "output_type": "execute_result"
    }
   ],
   "source": [
    "#.iloc()：照位置看\n",
    "#.loc()：照索引值\n",
    "#.ix()：索引值在混合情況下，索引值為整數時如 .iloc()，為文字時如 .loc()\n",
    "\n",
    "\n",
    "import pandas as pd\n",
    "import numpy as np\n",
    "s=pd.Series(np.zeros(10),index=[49,48,47,46,45,1,2,3,4,5])\n",
    "s\n",
    "s.iloc[0:3]# 49 48 47 前三筆\n",
    "s.loc[:3] #49 48 47 46 45 1 2 3 到index為3\n",
    "s.ix[:3] #49 48 47 46 45 1 2 3 \n",
    "s.iloc[0:6]# 49 48 47 46 45 1 前六筆\n",
    "#s.loc[:6] #ValueError \n",
    "#s.ix[:6] #ValueError \n"
   ]
  },
  {
   "cell_type": "code",
   "execution_count": 121,
   "metadata": {
    "collapsed": false
   },
   "outputs": [
    {
     "data": {
      "text/plain": [
       "a    0.0\n",
       "b    0.0\n",
       "c    0.0\n",
       "dtype: float64"
      ]
     },
     "execution_count": 121,
     "metadata": {},
     "output_type": "execute_result"
    }
   ],
   "source": [
    "\n",
    "import pandas as pd\n",
    "import numpy as np\n",
    "w=pd.Series(np.zeros(6),index=[\"a\",\"b\",\"c\",\"d\",\"e\",1])\n",
    "w\n",
    "w.ix[:\"c\"]\n"
   ]
  },
  {
   "cell_type": "code",
   "execution_count": 122,
   "metadata": {
    "collapsed": false
   },
   "outputs": [
    {
     "data": {
      "text/plain": [
       "a    0.0\n",
       "dtype: float64"
      ]
     },
     "execution_count": 122,
     "metadata": {},
     "output_type": "execute_result"
    }
   ],
   "source": [
    "import pandas as pd\n",
    "import numpy as np\n",
    "w=pd.Series(np.zeros(6),index=[\"a\",\"b\",\"c\",\"d\",\"e\",1])\n",
    "w\n",
    "w.ix[:1]"
   ]
  },
  {
   "cell_type": "code",
   "execution_count": 138,
   "metadata": {
    "collapsed": false
   },
   "outputs": [
    {
     "data": {
      "text/html": [
       "<div>\n",
       "<table border=\"1\" class=\"dataframe\">\n",
       "  <thead>\n",
       "    <tr style=\"text-align: right;\">\n",
       "      <th></th>\n",
       "      <th>age</th>\n",
       "      <th>is_male</th>\n",
       "      <th>name</th>\n",
       "    </tr>\n",
       "  </thead>\n",
       "  <tbody>\n",
       "    <tr>\n",
       "      <th>0</th>\n",
       "      <td>19.0</td>\n",
       "      <td>True</td>\n",
       "      <td>Monkey D. Luffy</td>\n",
       "    </tr>\n",
       "    <tr>\n",
       "      <th>1</th>\n",
       "      <td>21.0</td>\n",
       "      <td>True</td>\n",
       "      <td>Roronoa Zoro</td>\n",
       "    </tr>\n",
       "    <tr>\n",
       "      <th>2</th>\n",
       "      <td>20.0</td>\n",
       "      <td>False</td>\n",
       "      <td>Nami</td>\n",
       "    </tr>\n",
       "    <tr>\n",
       "      <th>3</th>\n",
       "      <td>19.0</td>\n",
       "      <td>True</td>\n",
       "      <td>Usopp</td>\n",
       "    </tr>\n",
       "    <tr>\n",
       "      <th>4</th>\n",
       "      <td>21.0</td>\n",
       "      <td>True</td>\n",
       "      <td>Vinsmoke Sanji</td>\n",
       "    </tr>\n",
       "    <tr>\n",
       "      <th>6</th>\n",
       "      <td>30.0</td>\n",
       "      <td>False</td>\n",
       "      <td>Nico Robin</td>\n",
       "    </tr>\n",
       "    <tr>\n",
       "      <th>7</th>\n",
       "      <td>36.0</td>\n",
       "      <td>True</td>\n",
       "      <td>Franky</td>\n",
       "    </tr>\n",
       "  </tbody>\n",
       "</table>\n",
       "</div>"
      ],
      "text/plain": [
       "    age is_male             name\n",
       "0  19.0    True  Monkey D. Luffy\n",
       "1  21.0    True     Roronoa Zoro\n",
       "2  20.0   False             Nami\n",
       "3  19.0    True            Usopp\n",
       "4  21.0    True   Vinsmoke Sanji\n",
       "6  30.0   False       Nico Robin\n",
       "7  36.0    True           Franky"
      ]
     },
     "execution_count": 138,
     "metadata": {},
     "output_type": "execute_result"
    }
   ],
   "source": [
    "import pandas as pd # 引用套件並縮寫為 pd\n",
    "import numpy as np\n",
    "\n",
    "name = [\"Monkey D. Luffy\", \"Roronoa Zoro\", \"Nami\", \"Usopp\", \"Vinsmoke Sanji\", \"Tony Tony Chopper\", \"Nico Robin\", \"Franky\", \"Brook\", np.NaN]\n",
    "age = [19, 21, 20, 19, 21, 17, 30, 36, np.NaN, np.NaN]\n",
    "is_male = [True, True, False, True, True, np.NaN, False, True, True, np.NaN]\n",
    "\n",
    "straw_hat_dict = {\"name\": name,\n",
    "                  \"age\": age,\n",
    "                  \"is_male\": is_male\n",
    "}\n",
    "\n",
    "straw_hat_df = pd.DataFrame(straw_hat_dict)\n",
    "straw_hat_df.dropna()\n"
   ]
  },
  {
   "cell_type": "code",
   "execution_count": 134,
   "metadata": {
    "collapsed": false
   },
   "outputs": [
    {
     "data": {
      "text/html": [
       "<div>\n",
       "<table border=\"1\" class=\"dataframe\">\n",
       "  <thead>\n",
       "    <tr style=\"text-align: right;\">\n",
       "      <th></th>\n",
       "      <th>age</th>\n",
       "      <th>is_male</th>\n",
       "      <th>name</th>\n",
       "    </tr>\n",
       "  </thead>\n",
       "  <tbody>\n",
       "    <tr>\n",
       "      <th>0</th>\n",
       "      <td>19.0</td>\n",
       "      <td>True</td>\n",
       "      <td>Monkey D. Luffy</td>\n",
       "    </tr>\n",
       "    <tr>\n",
       "      <th>1</th>\n",
       "      <td>21.0</td>\n",
       "      <td>True</td>\n",
       "      <td>Roronoa Zoro</td>\n",
       "    </tr>\n",
       "    <tr>\n",
       "      <th>2</th>\n",
       "      <td>20.0</td>\n",
       "      <td>False</td>\n",
       "      <td>Nami</td>\n",
       "    </tr>\n",
       "    <tr>\n",
       "      <th>3</th>\n",
       "      <td>19.0</td>\n",
       "      <td>True</td>\n",
       "      <td>Usopp</td>\n",
       "    </tr>\n",
       "    <tr>\n",
       "      <th>4</th>\n",
       "      <td>21.0</td>\n",
       "      <td>True</td>\n",
       "      <td>Vinsmoke Sanji</td>\n",
       "    </tr>\n",
       "    <tr>\n",
       "      <th>6</th>\n",
       "      <td>30.0</td>\n",
       "      <td>False</td>\n",
       "      <td>Nico Robin</td>\n",
       "    </tr>\n",
       "    <tr>\n",
       "      <th>7</th>\n",
       "      <td>36.0</td>\n",
       "      <td>True</td>\n",
       "      <td>Franky</td>\n",
       "    </tr>\n",
       "  </tbody>\n",
       "</table>\n",
       "</div>"
      ],
      "text/plain": [
       "    age is_male             name\n",
       "0  19.0    True  Monkey D. Luffy\n",
       "1  21.0    True     Roronoa Zoro\n",
       "2  20.0   False             Nami\n",
       "3  19.0    True            Usopp\n",
       "4  21.0    True   Vinsmoke Sanji\n",
       "6  30.0   False       Nico Robin\n",
       "7  36.0    True           Franky"
      ]
     },
     "execution_count": 134,
     "metadata": {},
     "output_type": "execute_result"
    }
   ],
   "source": [
    "straw_hat_df.dropna(how='any')"
   ]
  },
  {
   "cell_type": "code",
   "execution_count": 136,
   "metadata": {
    "collapsed": false
   },
   "outputs": [
    {
     "data": {
      "text/html": [
       "<div>\n",
       "<table border=\"1\" class=\"dataframe\">\n",
       "  <thead>\n",
       "    <tr style=\"text-align: right;\">\n",
       "      <th></th>\n",
       "      <th>age</th>\n",
       "      <th>is_male</th>\n",
       "      <th>name</th>\n",
       "    </tr>\n",
       "  </thead>\n",
       "  <tbody>\n",
       "    <tr>\n",
       "      <th>0</th>\n",
       "      <td>19.0</td>\n",
       "      <td>True</td>\n",
       "      <td>Monkey D. Luffy</td>\n",
       "    </tr>\n",
       "    <tr>\n",
       "      <th>1</th>\n",
       "      <td>21.0</td>\n",
       "      <td>True</td>\n",
       "      <td>Roronoa Zoro</td>\n",
       "    </tr>\n",
       "    <tr>\n",
       "      <th>2</th>\n",
       "      <td>20.0</td>\n",
       "      <td>False</td>\n",
       "      <td>Nami</td>\n",
       "    </tr>\n",
       "    <tr>\n",
       "      <th>3</th>\n",
       "      <td>19.0</td>\n",
       "      <td>True</td>\n",
       "      <td>Usopp</td>\n",
       "    </tr>\n",
       "    <tr>\n",
       "      <th>4</th>\n",
       "      <td>21.0</td>\n",
       "      <td>True</td>\n",
       "      <td>Vinsmoke Sanji</td>\n",
       "    </tr>\n",
       "    <tr>\n",
       "      <th>5</th>\n",
       "      <td>17.0</td>\n",
       "      <td>NaN</td>\n",
       "      <td>Tony Tony Chopper</td>\n",
       "    </tr>\n",
       "    <tr>\n",
       "      <th>6</th>\n",
       "      <td>30.0</td>\n",
       "      <td>False</td>\n",
       "      <td>Nico Robin</td>\n",
       "    </tr>\n",
       "    <tr>\n",
       "      <th>7</th>\n",
       "      <td>36.0</td>\n",
       "      <td>True</td>\n",
       "      <td>Franky</td>\n",
       "    </tr>\n",
       "    <tr>\n",
       "      <th>8</th>\n",
       "      <td>NaN</td>\n",
       "      <td>True</td>\n",
       "      <td>Brook</td>\n",
       "    </tr>\n",
       "  </tbody>\n",
       "</table>\n",
       "</div>"
      ],
      "text/plain": [
       "    age is_male               name\n",
       "0  19.0    True    Monkey D. Luffy\n",
       "1  21.0    True       Roronoa Zoro\n",
       "2  20.0   False               Nami\n",
       "3  19.0    True              Usopp\n",
       "4  21.0    True     Vinsmoke Sanji\n",
       "5  17.0     NaN  Tony Tony Chopper\n",
       "6  30.0   False         Nico Robin\n",
       "7  36.0    True             Franky\n",
       "8   NaN    True              Brook"
      ]
     },
     "execution_count": 136,
     "metadata": {},
     "output_type": "execute_result"
    }
   ],
   "source": [
    "straw_hat_df.dropna(how='all')"
   ]
  },
  {
   "cell_type": "code",
   "execution_count": 137,
   "metadata": {
    "collapsed": false
   },
   "outputs": [
    {
     "data": {
      "text/html": [
       "<div>\n",
       "<table border=\"1\" class=\"dataframe\">\n",
       "  <thead>\n",
       "    <tr style=\"text-align: right;\">\n",
       "      <th></th>\n",
       "      <th>age</th>\n",
       "      <th>is_male</th>\n",
       "      <th>name</th>\n",
       "    </tr>\n",
       "  </thead>\n",
       "  <tbody>\n",
       "    <tr>\n",
       "      <th>0</th>\n",
       "      <td>19.0</td>\n",
       "      <td>True</td>\n",
       "      <td>Monkey D. Luffy</td>\n",
       "    </tr>\n",
       "    <tr>\n",
       "      <th>1</th>\n",
       "      <td>21.0</td>\n",
       "      <td>True</td>\n",
       "      <td>Roronoa Zoro</td>\n",
       "    </tr>\n",
       "    <tr>\n",
       "      <th>2</th>\n",
       "      <td>20.0</td>\n",
       "      <td>False</td>\n",
       "      <td>Nami</td>\n",
       "    </tr>\n",
       "    <tr>\n",
       "      <th>3</th>\n",
       "      <td>19.0</td>\n",
       "      <td>True</td>\n",
       "      <td>Usopp</td>\n",
       "    </tr>\n",
       "    <tr>\n",
       "      <th>4</th>\n",
       "      <td>21.0</td>\n",
       "      <td>True</td>\n",
       "      <td>Vinsmoke Sanji</td>\n",
       "    </tr>\n",
       "    <tr>\n",
       "      <th>5</th>\n",
       "      <td>17.0</td>\n",
       "      <td>NaN</td>\n",
       "      <td>Tony Tony Chopper</td>\n",
       "    </tr>\n",
       "    <tr>\n",
       "      <th>6</th>\n",
       "      <td>30.0</td>\n",
       "      <td>False</td>\n",
       "      <td>Nico Robin</td>\n",
       "    </tr>\n",
       "    <tr>\n",
       "      <th>7</th>\n",
       "      <td>36.0</td>\n",
       "      <td>True</td>\n",
       "      <td>Franky</td>\n",
       "    </tr>\n",
       "    <tr>\n",
       "      <th>8</th>\n",
       "      <td>NaN</td>\n",
       "      <td>True</td>\n",
       "      <td>Brook</td>\n",
       "    </tr>\n",
       "    <tr>\n",
       "      <th>9</th>\n",
       "      <td>NaN</td>\n",
       "      <td>NaN</td>\n",
       "      <td>NaN</td>\n",
       "    </tr>\n",
       "  </tbody>\n",
       "</table>\n",
       "</div>"
      ],
      "text/plain": [
       "    age is_male               name\n",
       "0  19.0    True    Monkey D. Luffy\n",
       "1  21.0    True       Roronoa Zoro\n",
       "2  20.0   False               Nami\n",
       "3  19.0    True              Usopp\n",
       "4  21.0    True     Vinsmoke Sanji\n",
       "5  17.0     NaN  Tony Tony Chopper\n",
       "6  30.0   False         Nico Robin\n",
       "7  36.0    True             Franky\n",
       "8   NaN    True              Brook\n",
       "9   NaN     NaN                NaN"
      ]
     },
     "execution_count": 137,
     "metadata": {},
     "output_type": "execute_result"
    }
   ],
   "source": [
    "straw_hat_df"
   ]
  },
  {
   "cell_type": "code",
   "execution_count": 140,
   "metadata": {
    "collapsed": false
   },
   "outputs": [
    {
     "data": {
      "text/html": [
       "<div>\n",
       "<table border=\"1\" class=\"dataframe\">\n",
       "  <thead>\n",
       "    <tr style=\"text-align: right;\">\n",
       "      <th></th>\n",
       "      <th>age</th>\n",
       "      <th>is_male</th>\n",
       "      <th>name</th>\n",
       "    </tr>\n",
       "  </thead>\n",
       "  <tbody>\n",
       "    <tr>\n",
       "      <th>0</th>\n",
       "      <td>19.0</td>\n",
       "      <td>True</td>\n",
       "      <td>Monkey D. Luffy</td>\n",
       "    </tr>\n",
       "    <tr>\n",
       "      <th>1</th>\n",
       "      <td>21.0</td>\n",
       "      <td>True</td>\n",
       "      <td>Roronoa Zoro</td>\n",
       "    </tr>\n",
       "    <tr>\n",
       "      <th>2</th>\n",
       "      <td>20.0</td>\n",
       "      <td>False</td>\n",
       "      <td>Nami</td>\n",
       "    </tr>\n",
       "    <tr>\n",
       "      <th>3</th>\n",
       "      <td>19.0</td>\n",
       "      <td>True</td>\n",
       "      <td>Usopp</td>\n",
       "    </tr>\n",
       "    <tr>\n",
       "      <th>4</th>\n",
       "      <td>21.0</td>\n",
       "      <td>True</td>\n",
       "      <td>Vinsmoke Sanji</td>\n",
       "    </tr>\n",
       "    <tr>\n",
       "      <th>5</th>\n",
       "      <td>17.0</td>\n",
       "      <td>NaN</td>\n",
       "      <td>Tony Tony Chopper</td>\n",
       "    </tr>\n",
       "    <tr>\n",
       "      <th>6</th>\n",
       "      <td>30.0</td>\n",
       "      <td>False</td>\n",
       "      <td>Nico Robin</td>\n",
       "    </tr>\n",
       "    <tr>\n",
       "      <th>7</th>\n",
       "      <td>36.0</td>\n",
       "      <td>True</td>\n",
       "      <td>Franky</td>\n",
       "    </tr>\n",
       "    <tr>\n",
       "      <th>8</th>\n",
       "      <td>NaN</td>\n",
       "      <td>True</td>\n",
       "      <td>Brook</td>\n",
       "    </tr>\n",
       "    <tr>\n",
       "      <th>9</th>\n",
       "      <td>NaN</td>\n",
       "      <td>NaN</td>\n",
       "      <td>NaN</td>\n",
       "    </tr>\n",
       "  </tbody>\n",
       "</table>\n",
       "</div>"
      ],
      "text/plain": [
       "    age is_male               name\n",
       "0  19.0    True    Monkey D. Luffy\n",
       "1  21.0    True       Roronoa Zoro\n",
       "2  20.0   False               Nami\n",
       "3  19.0    True              Usopp\n",
       "4  21.0    True     Vinsmoke Sanji\n",
       "5  17.0     NaN  Tony Tony Chopper\n",
       "6  30.0   False         Nico Robin\n",
       "7  36.0    True             Franky\n",
       "8   NaN    True              Brook\n",
       "9   NaN     NaN                NaN"
      ]
     },
     "execution_count": 140,
     "metadata": {},
     "output_type": "execute_result"
    }
   ],
   "source": [
    "straw_hat_df\n"
   ]
  },
  {
   "cell_type": "code",
   "execution_count": 167,
   "metadata": {
    "collapsed": false
   },
   "outputs": [
    {
     "data": {
      "text/html": [
       "<div>\n",
       "<table border=\"1\" class=\"dataframe\">\n",
       "  <thead>\n",
       "    <tr style=\"text-align: right;\">\n",
       "      <th></th>\n",
       "      <th>age</th>\n",
       "      <th>is_male</th>\n",
       "      <th>name</th>\n",
       "    </tr>\n",
       "  </thead>\n",
       "  <tbody>\n",
       "    <tr>\n",
       "      <th>0</th>\n",
       "      <td>19.0</td>\n",
       "      <td>19.0</td>\n",
       "      <td>Monkey D. Luffy</td>\n",
       "    </tr>\n",
       "    <tr>\n",
       "      <th>1</th>\n",
       "      <td>21.0</td>\n",
       "      <td>21.0</td>\n",
       "      <td>Roronoa Zoro</td>\n",
       "    </tr>\n",
       "    <tr>\n",
       "      <th>2</th>\n",
       "      <td>20.0</td>\n",
       "      <td>20.0</td>\n",
       "      <td>Nami</td>\n",
       "    </tr>\n",
       "    <tr>\n",
       "      <th>3</th>\n",
       "      <td>19.0</td>\n",
       "      <td>19.0</td>\n",
       "      <td>Usopp</td>\n",
       "    </tr>\n",
       "    <tr>\n",
       "      <th>4</th>\n",
       "      <td>21.0</td>\n",
       "      <td>21.0</td>\n",
       "      <td>Vinsmoke Sanji</td>\n",
       "    </tr>\n",
       "    <tr>\n",
       "      <th>5</th>\n",
       "      <td>17.0</td>\n",
       "      <td>17.0</td>\n",
       "      <td>Tony Tony Chopper</td>\n",
       "    </tr>\n",
       "    <tr>\n",
       "      <th>6</th>\n",
       "      <td>30.0</td>\n",
       "      <td>30.0</td>\n",
       "      <td>Nico Robin</td>\n",
       "    </tr>\n",
       "    <tr>\n",
       "      <th>7</th>\n",
       "      <td>36.0</td>\n",
       "      <td>36.0</td>\n",
       "      <td>Franky</td>\n",
       "    </tr>\n",
       "    <tr>\n",
       "      <th>8</th>\n",
       "      <td>90.0</td>\n",
       "      <td>1.0</td>\n",
       "      <td>Brook</td>\n",
       "    </tr>\n",
       "    <tr>\n",
       "      <th>9</th>\n",
       "      <td>90.0</td>\n",
       "      <td>1.0</td>\n",
       "      <td>NaN</td>\n",
       "    </tr>\n",
       "  </tbody>\n",
       "</table>\n",
       "</div>"
      ],
      "text/plain": [
       "    age  is_male               name\n",
       "0  19.0     19.0    Monkey D. Luffy\n",
       "1  21.0     21.0       Roronoa Zoro\n",
       "2  20.0     20.0               Nami\n",
       "3  19.0     19.0              Usopp\n",
       "4  21.0     21.0     Vinsmoke Sanji\n",
       "5  17.0     17.0  Tony Tony Chopper\n",
       "6  30.0     30.0         Nico Robin\n",
       "7  36.0     36.0             Franky\n",
       "8  90.0      1.0              Brook\n",
       "9  90.0      1.0                NaN"
      ]
     },
     "execution_count": 167,
     "metadata": {},
     "output_type": "execute_result"
    }
   ],
   "source": [
    "import pandas as pd # 引用套件並縮寫為 pd\n",
    "import numpy as np\n",
    "\n",
    "name = [\"Monkey D. Luffy\", \"Roronoa Zoro\", \"Nami\", \"Usopp\", \"Vinsmoke Sanji\", \"Tony Tony Chopper\", \"Nico Robin\", \"Franky\", \"Brook\", np.NaN]\n",
    "age = [19, 21, 20, 19, 21, 17, 30, 36, np.NaN, np.NaN]\n",
    "is_male = [True, True, False, True, True, np.NaN, False, True, True, np.NaN]\n",
    "\n",
    "straw_hat_dict = {\"name\": name,\n",
    "                  \"age\": age,\n",
    "                  \"is_male\": is_male\n",
    "}\n",
    "\n",
    "\n",
    "#straw_hat_df.is_male=straw_hat_df.is_male.fillna(\"True\")\n",
    "straw_hat_df"
   ]
  },
  {
   "cell_type": "code",
   "execution_count": 161,
   "metadata": {
    "collapsed": false
   },
   "outputs": [
    {
     "data": {
      "text/plain": [
       "0    19.0\n",
       "1    21.0\n",
       "2    20.0\n",
       "3    19.0\n",
       "4    21.0\n",
       "5    17.0\n",
       "6    30.0\n",
       "7    36.0\n",
       "8    90.0\n",
       "9    90.0\n",
       "Name: age, dtype: float64"
      ]
     },
     "execution_count": 161,
     "metadata": {},
     "output_type": "execute_result"
    }
   ],
   "source": [
    "straw_hat_df.age=straw_hat_df.age.fillna(90)\n",
    "straw_hat_df.age"
   ]
  },
  {
   "cell_type": "code",
   "execution_count": 149,
   "metadata": {
    "collapsed": false
   },
   "outputs": [
    {
     "data": {
      "text/plain": [
       "1.0     2\n",
       "21.0    2\n",
       "19.0    2\n",
       "36.0    1\n",
       "30.0    1\n",
       "17.0    1\n",
       "20.0    1\n",
       "Name: is_male, dtype: int64"
      ]
     },
     "execution_count": 149,
     "metadata": {},
     "output_type": "execute_result"
    }
   ],
   "source": [
    "#檢視相異值個數\n",
    "straw_hat_df.is_male.value_counts()"
   ]
  },
  {
   "cell_type": "code",
   "execution_count": 172,
   "metadata": {
    "collapsed": false
   },
   "outputs": [
    {
     "data": {
      "text/html": [
       "<div>\n",
       "<table border=\"1\" class=\"dataframe\">\n",
       "  <thead>\n",
       "    <tr style=\"text-align: right;\">\n",
       "      <th></th>\n",
       "      <th>name</th>\n",
       "      <th>age</th>\n",
       "      <th>is_male</th>\n",
       "    </tr>\n",
       "  </thead>\n",
       "  <tbody>\n",
       "    <tr>\n",
       "      <th>0</th>\n",
       "      <td>Monkey D. Luffy</td>\n",
       "      <td>19.0</td>\n",
       "      <td>True</td>\n",
       "    </tr>\n",
       "    <tr>\n",
       "      <th>1</th>\n",
       "      <td>Roronoa Zoro</td>\n",
       "      <td>21.0</td>\n",
       "      <td>True</td>\n",
       "    </tr>\n",
       "    <tr>\n",
       "      <th>2</th>\n",
       "      <td>Nami</td>\n",
       "      <td>20.0</td>\n",
       "      <td>False</td>\n",
       "    </tr>\n",
       "    <tr>\n",
       "      <th>3</th>\n",
       "      <td>Usopp</td>\n",
       "      <td>19.0</td>\n",
       "      <td>True</td>\n",
       "    </tr>\n",
       "    <tr>\n",
       "      <th>4</th>\n",
       "      <td>Vinsmoke Sanji</td>\n",
       "      <td>21.0</td>\n",
       "      <td>True</td>\n",
       "    </tr>\n",
       "    <tr>\n",
       "      <th>5</th>\n",
       "      <td>Tony Tony Chopper</td>\n",
       "      <td>17.0</td>\n",
       "      <td>True</td>\n",
       "    </tr>\n",
       "    <tr>\n",
       "      <th>6</th>\n",
       "      <td>Nico Robin</td>\n",
       "      <td>30.0</td>\n",
       "      <td>False</td>\n",
       "    </tr>\n",
       "    <tr>\n",
       "      <th>7</th>\n",
       "      <td>Franky</td>\n",
       "      <td>36.0</td>\n",
       "      <td>True</td>\n",
       "    </tr>\n",
       "    <tr>\n",
       "      <th>8</th>\n",
       "      <td>Brook</td>\n",
       "      <td>NaN</td>\n",
       "      <td>True</td>\n",
       "    </tr>\n",
       "    <tr>\n",
       "      <th>9</th>\n",
       "      <td>NaN</td>\n",
       "      <td>NaN</td>\n",
       "      <td>True</td>\n",
       "    </tr>\n",
       "  </tbody>\n",
       "</table>\n",
       "</div>"
      ],
      "text/plain": [
       "                name   age is_male\n",
       "0    Monkey D. Luffy  19.0    True\n",
       "1       Roronoa Zoro  21.0    True\n",
       "2               Nami  20.0   False\n",
       "3              Usopp  19.0    True\n",
       "4     Vinsmoke Sanji  21.0    True\n",
       "5  Tony Tony Chopper  17.0    True\n",
       "6         Nico Robin  30.0   False\n",
       "7             Franky  36.0    True\n",
       "8              Brook   NaN    True\n",
       "9                NaN   NaN    True"
      ]
     },
     "execution_count": 172,
     "metadata": {},
     "output_type": "execute_result"
    }
   ],
   "source": [
    "import pandas as pd # 引用套件並縮寫為 pd\n",
    "import numpy as np\n",
    "\n",
    "name1 = [\"Monkey D. Luffy\", \"Roronoa Zoro\", \"Nami\", \"Usopp\", \"Vinsmoke Sanji\", \"Tony Tony Chopper\", \"Nico Robin\", \"Franky\", \"Brook\", np.NaN]\n",
    "age1 = [19, 21, 20, 19, 21, 17, 30, 36, np.NaN, np.NaN]\n",
    "is_male1 = [True, True, False, True, True, np.NaN, False, True, True, np.NaN]\n",
    "\n",
    "straw_hat_dict1 = {\"name\": name1,\n",
    "                  \"age\": age1,\n",
    "                  \"is_male\": is_male1\n",
    "}\n",
    "straw_hat_df1 = pd.DataFrame(straw_hat_dict1, columns = [\"name\", \"age\", \"is_male\"])\n",
    "\n",
    "straw_hat_df1.is_male = straw_hat_df1.is_male.fillna(True)\n",
    "#straw_hat_df.is_male=straw_hat_df.is_male.fillna(\"True\")\n",
    "straw_hat_df1"
   ]
  },
  {
   "cell_type": "code",
   "execution_count": 1,
   "metadata": {
    "collapsed": false
   },
   "outputs": [
    {
     "name": "stdout",
     "output_type": "stream",
     "text": [
      "1 是奇數\n",
      "2 是偶數\n",
      "3 是奇數\n",
      "4 是偶數\n",
      "5 是奇數\n",
      "6 是偶數\n",
      "7 是奇數\n",
      "8 是偶數\n",
      "9 是奇數\n",
      "10 是偶數\n"
     ]
    }
   ],
   "source": [
    "my_seq = list(range(1, 11))\n",
    "for iterator in my_seq:\n",
    "    if (iterator % 2 == 0):\n",
    "        print(iterator, \"是偶數\")\n",
    "    else:\n",
    "        print(iterator, \"是奇數\")"
   ]
  },
  {
   "cell_type": "code",
   "execution_count": 2,
   "metadata": {
    "collapsed": false
   },
   "outputs": [
    {
     "name": "stdout",
     "output_type": "stream",
     "text": [
      "1 是奇數\n",
      "2 是偶數\n",
      "3 是奇數\n",
      "4 是偶數\n",
      "5 是奇數\n",
      "6 是偶數\n",
      "7 是奇數\n",
      "8 是偶數\n",
      "9 是奇數\n",
      "10 是偶數\n"
     ]
    }
   ],
   "source": [
    "for i in range(1,11):\n",
    "    if i %2 ==1:\n",
    "        print(i,\"是奇數\")\n",
    "    else:\n",
    "        print(i,\"是偶數\")"
   ]
  },
  {
   "cell_type": "code",
   "execution_count": 11,
   "metadata": {
    "collapsed": false
   },
   "outputs": [
    {
     "name": "stdout",
     "output_type": "stream",
     "text": [
      "晴天 去戶外跑步\n",
      "陰天 去健身房\n",
      "雨天 去健身房\n",
      "晴天\n",
      "陰天\n",
      "雨天\n",
      "2\n"
     ]
    }
   ],
   "source": [
    "import random\n",
    "\n",
    "weather = [\"晴天\", \"陰天\", \"雨天\"]\n",
    "for i in weather:\n",
    "    if i==\"晴天\":\n",
    "        print(i,\"去戶外跑步\")\n",
    "    else:\n",
    "        print(i,\"去健身房\")\n",
    "        \n",
    "print(weather[0])\n",
    "print(weather[1])\n",
    "print(weather[2])\n",
    "\n",
    "print(random.randint(0,2))"
   ]
  },
  {
   "cell_type": "code",
   "execution_count": 17,
   "metadata": {
    "collapsed": false
   },
   "outputs": [
    {
     "data": {
      "text/plain": [
       "'雨天'"
      ]
     },
     "execution_count": 17,
     "metadata": {},
     "output_type": "execute_result"
    }
   ],
   "source": [
    "import random\n",
    "\n",
    "weather = [\"晴天\", \"陰天\", \"雨天\"]\n",
    "#print(random.randint(0,2))\n",
    "random_weather=weather[random.randint(0,2)]\n",
    "random_weather\n"
   ]
  },
  {
   "cell_type": "code",
   "execution_count": 40,
   "metadata": {
    "collapsed": false
   },
   "outputs": [
    {
     "name": "stdout",
     "output_type": "stream",
     "text": [
      "天氣是 晴天 去戶外跑步\n"
     ]
    }
   ],
   "source": [
    "import random\n",
    "\n",
    "weather = [\"晴天\", \"陰天\", \"雨天\"]\n",
    "#print(random.randint(0,len(weather)-1))\n",
    "\n",
    "random_weather=weather[random.randint(0,len(weather)-1)]\n",
    "if random_weather==\"晴天\":\n",
    "    print(\"天氣是\",random_weather,\"去戶外跑步\")\n",
    "else:    \n",
    "    print(\"天氣是\",random_weather,\"去健身房\")"
   ]
  },
  {
   "cell_type": "code",
   "execution_count": 26,
   "metadata": {
    "collapsed": false
   },
   "outputs": [
    {
     "name": "stdout",
     "output_type": "stream",
     "text": [
      "1 除以 3 餘數是 1\n",
      "2 除以 3 餘數是 2\n",
      "3 可以被 3 整除\n",
      "4 除以 3 餘數是 1\n",
      "5 除以 3 餘數是 2\n",
      "6 可以被 3 整除\n",
      "7 除以 3 餘數是 1\n",
      "8 除以 3 餘數是 2\n",
      "9 可以被 3 整除\n",
      "10 除以 3 餘數是 1\n"
     ]
    }
   ],
   "source": [
    "my_seq = list(range(1,11))\n",
    "for iterator in my_seq:\n",
    "    if (iterator % 3 == 0):\n",
    "        print(iterator, \"可以被 3 整除\")\n",
    "    elif (iterator % 3 ==1):\n",
    "        print(iterator, \"除以 3 餘數是 1\")\n",
    "    else:\n",
    "        print(iterator, \"除以 3 餘數是 2\")"
   ]
  },
  {
   "cell_type": "code",
   "execution_count": 67,
   "metadata": {
    "collapsed": false
   },
   "outputs": [
    {
     "name": "stdout",
     "output_type": "stream",
     "text": [
      "天氣是 暴雨 當沙發馬鈴薯\n"
     ]
    }
   ],
   "source": [
    "import random\n",
    "weather = [\"晴天\", \"多雲\", \"毛毛雨\", \"狂風\", \"暴雨\", \"下雪\", \"打雷閃電\"]\n",
    "random_weather=weather[random.randint(0,len(weather)-1)]\n",
    "\n",
    "\n",
    "#if (random_weather==\"晴天\")|(random_weather==\"多雲\"):\n",
    "if random_weather in [\"晴天\",\"多雲\"]:\n",
    "    print(\"天氣是\",random_weather,\"去戶外跑步\")\n",
    "elif random_weather==\"毛毛雨\":    \n",
    "    print(\"天氣是\",random_weather,\"去健身房\")\n",
    "else:\n",
    "    print(\"天氣是\",random_weather,\"當沙發馬鈴薯\")"
   ]
  },
  {
   "cell_type": "code",
   "execution_count": 28,
   "metadata": {
    "collapsed": false
   },
   "outputs": [
    {
     "name": "stdout",
     "output_type": "stream",
     "text": [
      "晴天 去戶外跑步\n",
      "多雲 去戶外跑步\n",
      "毛毛雨 去戶外跑步\n",
      "狂風 去戶外跑步\n",
      "暴雨 去戶外跑步\n",
      "下雪 去戶外跑步\n",
      "打雷閃電 去戶外跑步\n"
     ]
    }
   ],
   "source": [
    "#練習：晴天或多雲印\"去戶外跑步\"，毛毛雨印\"去健身房\"，否則印\"當沙發馬鈴薯\"\n",
    "weather = [\"晴天\", \"多雲\", \"毛毛雨\", \"狂風\", \"暴雨\", \"下雪\", \"打雷閃電\"]\n",
    "for i in weather:\n",
    "    if (i == \"晴天\" or \"多雲\"):\n",
    "        print(i, \"去戶外跑步\")\n",
    "    elif (i == \"毛毛雨\"):\n",
    "        print(i, \"去健身房\")\n",
    "    else:\n",
    "        print(i, \"當沙發馬鈴薯\")\n"
   ]
  },
  {
   "cell_type": "code",
   "execution_count": 29,
   "metadata": {
    "collapsed": false
   },
   "outputs": [
    {
     "name": "stdout",
     "output_type": "stream",
     "text": [
      "Sunday\n",
      "Monday\n",
      "Tuesday\n",
      "Wednesday\n"
     ]
    }
   ],
   "source": [
    "#讓迴圈更有彈性\n",
    "#break 描述\n",
    "weekdays = [\"Sunday\", \"Monday\", \"Tuesday\", \"Wednesday\", \"Thursday\", \"Friday\", \"Saturday\"]\n",
    "for weekday in weekdays:\n",
    "    if weekday == \"Thursday\":\n",
    "        break\n",
    "    else:\n",
    "        print(weekday)"
   ]
  },
  {
   "cell_type": "code",
   "execution_count": 30,
   "metadata": {
    "collapsed": false
   },
   "outputs": [
    {
     "name": "stdout",
     "output_type": "stream",
     "text": [
      "Sunday\n",
      "Monday\n",
      "Tuesday\n",
      "Wednesday\n",
      "Friday\n",
      "Saturday\n"
     ]
    }
   ],
   "source": [
    "#讓迴圈更有彈性（2）\n",
    "#continue 描述\n",
    "weekdays = [\"Sunday\", \"Monday\", \"Tuesday\", \"Wednesday\", \"Thursday\", \"Friday\", \"Saturday\"]\n",
    "for weekday in weekdays:\n",
    "    if weekday == \"Thursday\":\n",
    "        continue\n",
    "    else:\n",
    "        print(weekday)"
   ]
  },
  {
   "cell_type": "code",
   "execution_count": 77,
   "metadata": {
    "collapsed": false
   },
   "outputs": [
    {
     "name": "stdout",
     "output_type": "stream",
     "text": [
      "Monday\n",
      "Tuesday\n",
      "Wednesday\n",
      "Thursday\n",
      "Friday\n"
     ]
    }
   ],
   "source": [
    "#讓迴圈更有彈性（3）\n",
    "#練習：印出週間工作日\n",
    "weekdays = [\"Sunday\", \"Monday\", \"Tuesday\", \"Wednesday\", \"Thursday\", \"Friday\", \"Saturday\"]\n",
    "for weekday in weekdays:\n",
    "    if weekday in [\"Sunday\",\"Saturday\"]:\n",
    "        continue\n",
    "    else:\n",
    "        print(weekday)\n",
    "        "
   ]
  },
  {
   "cell_type": "code",
   "execution_count": 72,
   "metadata": {
    "collapsed": false
   },
   "outputs": [
    {
     "name": "stdout",
     "output_type": "stream",
     "text": [
      "Monday\n",
      "Tuesday\n",
      "Wednesday\n",
      "Thursday\n",
      "Friday\n"
     ]
    }
   ],
   "source": [
    "weekdays = [\"Sunday\", \"Monday\", \"Tuesday\", \"Wednesday\", \"Thursday\", \"Friday\", \"Saturday\"]\n",
    "for weekday in weekdays:\n",
    "    #if (weekday != \"Sunday\") and (weekday !=\"Saturday\"):\n",
    "    if weekday not in [\"Sunday\",\"Saturday\"]:\n",
    "        print(weekday)\n",
    "    #else:\n",
    "        #print(\"\")\n",
    "        "
   ]
  },
  {
   "cell_type": "code",
   "execution_count": 78,
   "metadata": {
    "collapsed": false
   },
   "outputs": [
    {
     "name": "stdout",
     "output_type": "stream",
     "text": [
      "1\n",
      "3\n",
      "29\n",
      "87\n"
     ]
    }
   ],
   "source": [
    "#numbers=[1,2,3,5,7,9,11,13,17,19,23,29,31,37,41,43,47,51,53,59,51,67,71,73,79.83,87]\n",
    "for i in range (1,88):\n",
    "    if (87 % i == 0):\n",
    "        print(i)"
   ]
  },
  {
   "cell_type": "code",
   "execution_count": 82,
   "metadata": {
    "collapsed": false
   },
   "outputs": [
    {
     "name": "stdout",
     "output_type": "stream",
     "text": [
      "[1, 3, 29, 87]\n"
     ]
    }
   ],
   "source": [
    "ans_list=[]\n",
    "for i in range(1,88):\n",
    "    if (87%i==0):\n",
    "        ans_list.append(i)\n",
    "    else:\n",
    "        continue\n",
    "print(ans_list)\n"
   ]
  },
  {
   "cell_type": "code",
   "execution_count": 84,
   "metadata": {
    "collapsed": false
   },
   "outputs": [
    {
     "name": "stdout",
     "output_type": "stream",
     "text": [
      "42.125\n",
      "1.6\n",
      "6\n",
      "[42.125, 21, 10, 5, 3, 1.6]\n",
      "[1.6, 3, 5, 10, 21, 42.125]\n"
     ]
    }
   ],
   "source": [
    "#內建函數\n",
    "distances = [1.6, 3, 5, 10, 21, 42.125]\n",
    "\n",
    "# 應用函數\n",
    "print(max(distances)) # 最長的距離\n",
    "print(min(distances)) # 最短的距離\n",
    "print(len(distances)) # 總共有幾個距離\n",
    "print(sorted(distances, reverse = True)) # 遞減排序\n",
    "print(sorted(distances)) # 遞增排序"
   ]
  },
  {
   "cell_type": "code",
   "execution_count": 87,
   "metadata": {
    "collapsed": false
   },
   "outputs": [
    {
     "name": "stdout",
     "output_type": "stream",
     "text": [
      "Help on function squared in module __main__:\n",
      "\n",
      "squared(x)\n",
      "    將輸入的數字平方之後回傳\n",
      "\n",
      "None\n"
     ]
    },
    {
     "data": {
      "text/plain": [
       "9"
      ]
     },
     "execution_count": 87,
     "metadata": {},
     "output_type": "execute_result"
    }
   ],
   "source": [
    "def squared(x):\n",
    "    '''\n",
    "    將輸入的數字平方之後回傳\n",
    "    '''\n",
    "    y = x**2\n",
    "    return y\n",
    "\n",
    "print(help(squared))\n",
    "squared(3)"
   ]
  },
  {
   "cell_type": "code",
   "execution_count": 88,
   "metadata": {
    "collapsed": false
   },
   "outputs": [
    {
     "name": "stdout",
     "output_type": "stream",
     "text": [
      "Help on function squared in module __main__:\n",
      "\n",
      "squared(x)\n",
      "    將輸入的數字平方之後回傳\n",
      "\n"
     ]
    }
   ],
   "source": [
    "def squared(x):\n",
    "    '''\n",
    "    將輸入的數字平方之後回傳\n",
    "    '''\n",
    "    y = x**2\n",
    "    return y\n",
    "\n",
    "help(squared)"
   ]
  },
  {
   "cell_type": "code",
   "execution_count": 89,
   "metadata": {
    "collapsed": false
   },
   "outputs": [
    {
     "data": {
      "text/plain": [
       "9"
      ]
     },
     "execution_count": 89,
     "metadata": {},
     "output_type": "execute_result"
    }
   ],
   "source": [
    "def squared(x):\n",
    "    '''\n",
    "    將輸入的數字平方之後回傳\n",
    "    '''\n",
    "    y = x**2\n",
    "    return y\n",
    "\n",
    "squared(3)"
   ]
  },
  {
   "cell_type": "code",
   "execution_count": 96,
   "metadata": {
    "collapsed": false
   },
   "outputs": [
    {
     "data": {
      "text/plain": [
       "-1"
      ]
     },
     "execution_count": 96,
     "metadata": {},
     "output_type": "execute_result"
    }
   ],
   "source": [
    "def sgn(x):\n",
    "    '''\n",
    "    將輸入的數字平方之後回傳\n",
    "    '''\n",
    "    if x < 0:\n",
    "        return -1\n",
    "    elif x>0:\n",
    "        return 1\n",
    "    else:\n",
    "        return 0\n",
    "\n",
    "sgn(-1.1)"
   ]
  },
  {
   "cell_type": "code",
   "execution_count": 97,
   "metadata": {
    "collapsed": false
   },
   "outputs": [
    {
     "data": {
      "text/plain": [
       "3.141592653589793"
      ]
     },
     "execution_count": 97,
     "metadata": {},
     "output_type": "execute_result"
    }
   ],
   "source": [
    "import math # 要使用 pi 得引入套件 math\n",
    "math.pi"
   ]
  },
  {
   "cell_type": "code",
   "execution_count": 98,
   "metadata": {
    "collapsed": false
   },
   "outputs": [
    {
     "name": "stdout",
     "output_type": "stream",
     "text": [
      "Help on function circle_calculate in module __main__:\n",
      "\n",
      "circle_calculate(radius, is_area=True)\n",
      "    依據輸入的半徑與 is_area 參數，計算圓形的面積或周長\n",
      "\n",
      "28.274333882308138\n",
      "18.84955592153876\n"
     ]
    }
   ],
   "source": [
    "import math # 要使用 pi 得引入套件 math\n",
    "\n",
    "# 定義自訂函數\n",
    "def circle_calculate(radius, is_area = True): # 給預設值為True\n",
    "    '''\n",
    "    依據輸入的半徑與 is_area 參數，計算圓形的面積或周長\n",
    "    '''\n",
    "    circle_area = math.pi * radius**2\n",
    "    circle_circum = 2 * math.pi * radius\n",
    "    if is_area == True:\n",
    "        return circle_area\n",
    "    else:\n",
    "        return circle_circum\n",
    "\n",
    "# 呼叫自訂函數\n",
    "help(circle_calculate) # 查詢自訂函數\n",
    "my_radius = 3\n",
    "print(circle_calculate(my_radius)) # 預設回傳面積\n",
    "print(circle_calculate(my_radius, is_area = False)) # 指定參數回傳周長\n",
    "\n"
   ]
  },
  {
   "cell_type": "code",
   "execution_count": 102,
   "metadata": {
    "collapsed": false
   },
   "outputs": [
    {
     "name": "stdout",
     "output_type": "stream",
     "text": [
      "(28.274333882308138, 18.84955592153876)\n",
      "28.274333882308138\n",
      "18.84955592153876\n"
     ]
    }
   ],
   "source": [
    "# 在 return 後面將多個值用逗號 , 隔開就會回傳一個 tuple\n",
    "import math # 要使用 pi 得引入套件 math\n",
    "\n",
    "# 定義自訂函數\n",
    "def circle_calculate(radius):\n",
    "    '''\n",
    "    依據輸入的半徑同時計算並回傳圓形的面積與周長\n",
    "    '''\n",
    "    circle_area = math.pi * radius**2\n",
    "    circle_circum = 2 * math.pi * radius\n",
    "    return circle_area, circle_circum\n",
    "\n",
    "# 呼叫自訂函數\n",
    "my_radius = 3\n",
    "print(circle_calculate(my_radius))\n",
    "print(circle_calculate(my_radius)[0])\n",
    "print(circle_calculate(my_radius)[1])"
   ]
  },
  {
   "cell_type": "code",
   "execution_count": 101,
   "metadata": {
    "collapsed": false
   },
   "outputs": [
    {
     "name": "stdout",
     "output_type": "stream",
     "text": [
      "8 7\n",
      "7 8\n"
     ]
    }
   ],
   "source": [
    "# 自訂函數（6）\n",
    "# 小技巧：便利的指派\n",
    "a = 8\n",
    "b = 7\n",
    "print(a, b)\n",
    "a, b = b, a\n",
    "print(a, b)"
   ]
  },
  {
   "cell_type": "code",
   "execution_count": 103,
   "metadata": {
    "collapsed": false
   },
   "outputs": [
    {
     "name": "stdout",
     "output_type": "stream",
     "text": [
      "8 7\n",
      "7 8\n"
     ]
    }
   ],
   "source": [
    "a = 8\n",
    "b = 7\n",
    "print(a, b)\n",
    "tmp=a\n",
    "a=b\n",
    "b=tmp\n",
    "print(a, b)"
   ]
  },
  {
   "cell_type": "code",
   "execution_count": 104,
   "metadata": {
    "collapsed": false
   },
   "outputs": [
    {
     "name": "stdout",
     "output_type": "stream",
     "text": [
      "[43, 14, 9, 94, 54, 49, 77, 19, 1, 18]\n",
      "[1, 9, 14, 18, 19, 43, 49, 54, 77, 94]\n"
     ]
    }
   ],
   "source": [
    "#自訂函數（7）\n",
    "#交換排序法（遞增）\n",
    "import random # 呼叫函數時使用隨機整數\n",
    "\n",
    "# 定義自訂函數\n",
    "def exchange_sort(input_list):\n",
    "    '''\n",
    "    依據輸入的 list 遞增排序 list 中的數字後回傳。\n",
    "    '''\n",
    "    # 遞增排序\n",
    "    for i in range(0, len(input_list) - 1):\n",
    "        for j in range(i + 1, len(input_list)):\n",
    "            # 如果前一個數字比後一個數字大則交換位置\n",
    "            if input_list[i] > input_list[j]:\n",
    "                input_list[i], input_list[j] = input_list[j], input_list[i]\n",
    "\n",
    "    return input_list\n",
    "\n",
    "# 呼叫自訂函數\n",
    "my_list = random.sample(range(0, 100), 10) # 產生一組隨機數\n",
    "print(my_list) # 看看未排序前\n",
    "print(exchange_sort(my_list))"
   ]
  },
  {
   "cell_type": "code",
   "execution_count": 110,
   "metadata": {
    "collapsed": false
   },
   "outputs": [
    {
     "name": "stdout",
     "output_type": "stream",
     "text": [
      "[12, 32, 7, 44, 60, 34, 54, 30, 6, 50]\n",
      "[6, 7, 12, 30, 32, 34, 44, 50, 54, 60]\n",
      "[60, 54, 50, 44, 34, 32, 30, 12, 7, 6]\n"
     ]
    }
   ],
   "source": [
    "#練習：在交換排序法中增加一個參數：reverse，預設 reverse = False 遞增排序\n",
    "# 定義自訂函數\n",
    "def exchange_sort(input_list,reverse = False):\n",
    "    '''\n",
    "    依據輸入的 list 遞增排序 list 中的數字後回傳。\n",
    "    '''\n",
    "    if reverse == False:\n",
    "        # 遞增排序\n",
    "        for i in range(0, len(input_list) - 1):\n",
    "            for j in range(i + 1, len(input_list)):\n",
    "                # 如果前一個數字比後一個數字大則交換位置\n",
    "                if input_list[i] > input_list[j]:\n",
    "                    input_list[i], input_list[j] = input_list[j], input_list[i]\n",
    "        return input_list\n",
    "    elif reverse == True:\n",
    "        # 遞增排序\n",
    "        for i in range(0, len(input_list) - 1):\n",
    "            for j in range(i + 1, len(input_list)):\n",
    "                # 如果前一個數字比後一個數字小則交換位置\n",
    "                if input_list[i] < input_list[j]:\n",
    "                    input_list[i], input_list[j] = input_list[j], input_list[i]\n",
    "        return input_list\n",
    "    \n",
    "\n",
    "# 呼叫自訂函數\n",
    "my_list = random.sample(range(0, 100), 10) # 產生一組隨機數\n",
    "print(my_list) # 看看未排序前\n",
    "print(exchange_sort(my_list)) # 看看未排序前\n",
    "print(exchange_sort(my_list,reverse = True)) # 看看未排序前\n"
   ]
  },
  {
   "cell_type": "code",
   "execution_count": 113,
   "metadata": {
    "collapsed": false
   },
   "outputs": [
    {
     "name": "stdout",
     "output_type": "stream",
     "text": [
      "1\n",
      "3\n",
      "29\n",
      "87\n"
     ]
    }
   ],
   "source": [
    "i=1\n",
    "while i<88:\n",
    "    if 87%i==0:\n",
    "        print(i)\n",
    "    i=i+1    "
   ]
  },
  {
   "cell_type": "code",
   "execution_count": 112,
   "metadata": {
    "collapsed": false
   },
   "outputs": [
    {
     "name": "stdout",
     "output_type": "stream",
     "text": [
      "1\n",
      "3\n",
      "29\n",
      "87\n"
     ]
    }
   ],
   "source": [
    "i=1\n",
    "while i < 88:\n",
    "    if 87 % i == 0:\n",
    "        print(i)\n",
    "    i += 1"
   ]
  },
  {
   "cell_type": "code",
   "execution_count": 117,
   "metadata": {
    "collapsed": false
   },
   "outputs": [
    {
     "data": {
      "text/plain": [
       "9"
      ]
     },
     "execution_count": 117,
     "metadata": {},
     "output_type": "execute_result"
    }
   ],
   "source": [
    "def squared(x):\n",
    "    try:\n",
    "        return x**2\n",
    "    except:\n",
    "        print(\"please input number\")\n",
    "squared(3)\n"
   ]
  },
  {
   "cell_type": "code",
   "execution_count": 119,
   "metadata": {
    "collapsed": false
   },
   "outputs": [
    {
     "data": {
      "text/plain": [
       "(28.274333882308138, 18.84955592153876)"
      ]
     },
     "execution_count": 119,
     "metadata": {},
     "output_type": "execute_result"
    }
   ],
   "source": [
    "import math # 要使用 pi 得引入套件 math\n",
    "\n",
    "# 定義自訂函數\n",
    "def circle_calculate(radius):\n",
    "    '依據輸入的半徑同時計算並回傳圓形的面積或周長' # 單行的 docstring\n",
    "    try:\n",
    "        circle_area = math.pi * radius**2\n",
    "        circle_circum = 2 * math.pi * radius\n",
    "        return circle_area, circle_circum\n",
    "    except:\n",
    "        print(\"請輸入數值。\")\n",
    "\n",
    "# 呼叫自訂函數\n",
    "my_radius = \"3\"\n",
    "circle_calculate(my_radius)"
   ]
  },
  {
   "cell_type": "code",
   "execution_count": 128,
   "metadata": {
    "collapsed": false
   },
   "outputs": [
    {
     "name": "stdout",
     "output_type": "stream",
     "text": [
      "分母不可以為零！\n",
      "輸入文字的錯誤\n"
     ]
    }
   ],
   "source": [
    "def divide(numerator, denominator):\n",
    "    try:\n",
    "        ans = numerator / denominator\n",
    "        return ans\n",
    "    except ZeroDivisionError:\n",
    "        print(\"分母不可以為零！\")\n",
    "    except TypeError:\n",
    "        print(\"輸入文字的錯誤\")\n",
    "        \n",
    "divide(4,2)\n",
    "divide(4,0)\n",
    "divide(4,\"a\")"
   ]
  },
  {
   "cell_type": "code",
   "execution_count": 124,
   "metadata": {
    "collapsed": false
   },
   "outputs": [
    {
     "ename": "TypeError",
     "evalue": "unsupported operand type(s) for /: 'int' and 'str'",
     "output_type": "error",
     "traceback": [
      "\u001b[0;31m---------------------------------------------------------------------------\u001b[0m",
      "\u001b[0;31mTypeError\u001b[0m                                 Traceback (most recent call last)",
      "\u001b[0;32m<ipython-input-124-2e5bb44b78af>\u001b[0m in \u001b[0;36m<module>\u001b[0;34m()\u001b[0m\n\u001b[1;32m      1\u001b[0m \u001b[1;32mdef\u001b[0m \u001b[0mdivide\u001b[0m\u001b[1;33m(\u001b[0m\u001b[0mnumerator\u001b[0m\u001b[1;33m,\u001b[0m \u001b[0mdenominator\u001b[0m\u001b[1;33m)\u001b[0m\u001b[1;33m:\u001b[0m\u001b[1;33m\u001b[0m\u001b[0m\n\u001b[1;32m      2\u001b[0m     \u001b[1;32mreturn\u001b[0m \u001b[0mnumerator\u001b[0m\u001b[1;33m/\u001b[0m\u001b[0mdenominator\u001b[0m\u001b[1;33m\u001b[0m\u001b[0m\n\u001b[0;32m----> 3\u001b[0;31m \u001b[0mdivide\u001b[0m\u001b[1;33m(\u001b[0m\u001b[1;36m4\u001b[0m\u001b[1;33m,\u001b[0m\u001b[1;34m\"a\"\u001b[0m\u001b[1;33m)\u001b[0m\u001b[1;33m\u001b[0m\u001b[0m\n\u001b[0m",
      "\u001b[0;32m<ipython-input-124-2e5bb44b78af>\u001b[0m in \u001b[0;36mdivide\u001b[0;34m(numerator, denominator)\u001b[0m\n\u001b[1;32m      1\u001b[0m \u001b[1;32mdef\u001b[0m \u001b[0mdivide\u001b[0m\u001b[1;33m(\u001b[0m\u001b[0mnumerator\u001b[0m\u001b[1;33m,\u001b[0m \u001b[0mdenominator\u001b[0m\u001b[1;33m)\u001b[0m\u001b[1;33m:\u001b[0m\u001b[1;33m\u001b[0m\u001b[0m\n\u001b[0;32m----> 2\u001b[0;31m     \u001b[1;32mreturn\u001b[0m \u001b[0mnumerator\u001b[0m\u001b[1;33m/\u001b[0m\u001b[0mdenominator\u001b[0m\u001b[1;33m\u001b[0m\u001b[0m\n\u001b[0m\u001b[1;32m      3\u001b[0m \u001b[0mdivide\u001b[0m\u001b[1;33m(\u001b[0m\u001b[1;36m4\u001b[0m\u001b[1;33m,\u001b[0m\u001b[1;34m\"a\"\u001b[0m\u001b[1;33m)\u001b[0m\u001b[1;33m\u001b[0m\u001b[0m\n",
      "\u001b[0;31mTypeError\u001b[0m: unsupported operand type(s) for /: 'int' and 'str'"
     ]
    }
   ],
   "source": [
    "def divide(numerator, denominator):\n",
    "    return numerator/denominator\n",
    "divide(4,\"a\")\n"
   ]
  },
  {
   "cell_type": "code",
   "execution_count": null,
   "metadata": {
    "collapsed": true
   },
   "outputs": [],
   "source": [
    "#練習：幫 divide() 函數多加一個 except 是處理輸入文字的錯誤"
   ]
  }
 ],
 "metadata": {
  "kernelspec": {
   "display_name": "Python 3",
   "language": "python",
   "name": "python3"
  },
  "language_info": {
   "codemirror_mode": {
    "name": "ipython",
    "version": 3
   },
   "file_extension": ".py",
   "mimetype": "text/x-python",
   "name": "python",
   "nbconvert_exporter": "python",
   "pygments_lexer": "ipython3",
   "version": "3.6.0"
  }
 },
 "nbformat": 4,
 "nbformat_minor": 2
}
